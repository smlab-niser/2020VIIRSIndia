{
 "cells": [
  {
   "cell_type": "code",
   "execution_count": 2,
   "metadata": {},
   "outputs": [],
   "source": [
    "import os\n",
    "import json\n",
    "import rasterio\n",
    "import numpy as np\n",
    "from matplotlib import pyplot as plt\n",
    "import csv\n",
    "import rasterio.mask"
   ]
  },
  {
   "cell_type": "code",
   "execution_count": null,
   "metadata": {},
   "outputs": [],
   "source": [
    "import os\n",
    "path = 'dmspols'\n",
    "\n",
    "imagefiles = []\n",
    "# r=root, d=directories, f = files\n",
    "for r, d, f in os.walk(path):\n",
    "    for file in f:\n",
    "        if 'web.stable_lights.avg_vis.tif' in file:\n",
    "            imagefiles.append(os.path.join(r, file))\n",
    "        \n"
   ]
  },
  {
   "cell_type": "code",
   "execution_count": 30,
   "metadata": {},
   "outputs": [],
   "source": [
    "#makes list a of staes in json file to give as input in raster_array_state function\n",
    "states=[]\n",
    "data_states=json.load(open(\"states.json\"))\n",
    "for x in data_states[\"features\"]:\n",
    "    states.append(x['id'])\n"
   ]
  },
  {
   "cell_type": "code",
   "execution_count": 38,
   "metadata": {},
   "outputs": [],
   "source": [
    "#raster array function for states, to get luminosity of a state\n",
    "# we open the source image as a raster object, to get the reqired state we crop raster by calling rasterio.mask.mask function \n",
    "# documentation of rasterio.mask.mask:' https://rasterio.readthedocs.io/en/latest/api/rasterio.mask.html#rasterio.mask.raster_geometry_mask'\n",
    "# the function has parameters first is raster object second is geometry of region of interest here it is the state's geometry, which is extracted from json file of India's states ,\n",
    "#the outputs of mask function have a tuple which has intensity of the state, we sum all elements to get total intensity  \n",
    "\n",
    "\n",
    "\n",
    "def raster_array_state(image,state):\n",
    "    sumi=0\n",
    "    for x in data_states['features']:\n",
    "        if (x['id']==state):\n",
    "            state_geo=[x['geometry']]\n",
    "    \n",
    "    with rasterio.open(image) as src:\n",
    "        out_imagest,out_transform = rasterio.mask.mask(src,state_geo , all_touched=True, nodata=0.0,crop=True)   \n",
    "    raster_array=  out_imagest[0]\n",
    "    for row in range (len(raster_array)):\n",
    "            for col in range(len(raster_array[0])):\n",
    "                if(raster_array[row][col]<0.0):\n",
    "                    raster_array[row][col]=0.0\n",
    "                sumi = sumi + raster_array[row][col]\n",
    "    return sumi\n"
   ]
  },
  {
   "cell_type": "code",
   "execution_count": null,
   "metadata": {},
   "outputs": [],
   "source": [
    "#to find luminosity for all states in given image\n",
    "#we call raster_array_state function with image and the required state as input(which is taken fron list of states,so we get data of all states from one image) )\n",
    "#output of funtion with name of state and month is written in csv file\n",
    "for img in imagefiles:\n",
    "    with open('datastates.csv','w', newline='') as f:\n",
    "        thewriter=csv.writer(f)\n",
    "        for i in states:\n",
    "            thewriter.writerow([imf,i,raster_array_state(img,i)])"
   ]
  },
  {
   "cell_type": "code",
   "execution_count": 59,
   "metadata": {},
   "outputs": [],
   "source": [
    "#makes list a of cities in json file to give as input in raster_array_state function\n",
    "\n",
    "data_cities=json.load(open('cities.json'))\n",
    "data_cities=data_cities['features']\n",
    "cities=[]\n",
    "for x in data_cities:\n",
    "        y= x['properties']\n",
    "        cities.append(y['NAME_2'])\n",
    "    "
   ]
  },
  {
   "cell_type": "code",
   "execution_count": 14,
   "metadata": {},
   "outputs": [],
   "source": [
    "#raster array function for districts, to get luminosity of a state\n",
    "# we open the source image as a raster object, to get the reqired state we crop raster by calling rasterio.mask.mask function \n",
    "# documentation of rasterio.mask.mask:' https://rasterio.readthedocs.io/en/latest/api/rasterio.mask.html#rasterio.mask.raster_geometry_mask'\n",
    "# the function has parameters first is raster object second is geometry of region of interest here it is the district's geometry, which is extracted from json file of India's districts ,\n",
    "#the outputs of mask function have a tuple which has intensity of the district, we sum all elements to get total intensity  \n",
    "\n",
    "\n",
    "def raster_array_district(image,city):\n",
    "    sumi=0\n",
    "    for x in data_cities:\n",
    "        y= x['properties']\n",
    "        if(y['NAME_2']==city):\n",
    "            geo=[x['geometry']]\n",
    "            \n",
    "            \n",
    "    with rasterio.open(image) as src:\n",
    "        out_imagecity,out_transform = rasterio.mask.mask(src,geo , all_touched=True, nodata=0.0,crop=True)   \n",
    "    raster_array=  out_imagecity[0]\n",
    "    for row in range (len(raster_array)):\n",
    "            for col in range(len(raster_array[0])):\n",
    "                if(raster_array[row][col]<0.0):\n",
    "                    raster_array[row][col]=0.0\n",
    "                sumi = sumi + raster_array[row][col]\n",
    "    return sumi\n"
   ]
  },
  {
   "cell_type": "code",
   "execution_count": 62,
   "metadata": {},
   "outputs": [],
   "source": [
    "#to find luminosity for all districts in given image\n",
    "#we call raster_array_state function with image and the required district as input(which is taken fron list of states,so we get data of all districts from one image)\n",
    "#output of funtion with name of district and month is written in csv file\n",
    "for img in imagefiles:\n",
    "    with open('datacities.csv','w', newline='') as f:\n",
    "            thewriter=csv.writer(f)\n",
    "            for j in cities:\n",
    "                thewriter.writerow([img,j,raster_array_district(img,j)])\n"
   ]
  }
 ],
 "metadata": {
  "kernelspec": {
   "display_name": "Python 3",
   "language": "python",
   "name": "python3"
  },
  "language_info": {
   "codemirror_mode": {
    "name": "ipython",
    "version": 3
   },
   "file_extension": ".py",
   "mimetype": "text/x-python",
   "name": "python",
   "nbconvert_exporter": "python",
   "pygments_lexer": "ipython3",
   "version": "3.7.4"
  }
 },
 "nbformat": 4,
 "nbformat_minor": 2
}
