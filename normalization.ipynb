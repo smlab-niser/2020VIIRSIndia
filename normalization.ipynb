{
 "cells": [
  {
   "cell_type": "code",
   "execution_count": 1,
   "metadata": {},
   "outputs": [],
   "source": [
    "import os\n",
    "import json\n",
    "import rasterio\n",
    "import numpy as np\n",
    "from matplotlib import pyplot as plt\n",
    "import csv\n",
    "import rasterio.mask\n",
    "import pandas as pd"
   ]
  },
  {
   "cell_type": "code",
   "execution_count": 2,
   "metadata": {},
   "outputs": [
    {
     "name": "stdout",
     "output_type": "stream",
     "text": [
      "json/india.json\n",
      "json/korea.json\n",
      "json/states.json\n",
      "json/usa.json\n",
      "json/brazil.json\n",
      "json/canada.json\n",
      "json/china.json\n",
      "json/france.json\n",
      "json/germany.json\n",
      "json/indonesia.json\n",
      "json/iran.json\n",
      "json/italy.json\n",
      "json/japan.json\n",
      "json/mexico.json\n",
      "json/russia.json\n",
      "json/saudiarab.json\n",
      "json/spain.json\n",
      "json/turkey.json\n",
      "json/uk.json\n"
     ]
    }
   ],
   "source": [
    "path = 'json/'\n",
    "\n",
    "files = []\n",
    "# r=root, d=directories, f = files\n",
    "for r, d, f in os.walk(path):\n",
    "    for file in f:\n",
    "            files.append(os.path.join(r, file))\n",
    "for f in files:\n",
    "    print(f)\n",
    "    data=json.load(open(f))"
   ]
  },
  {
   "cell_type": "code",
   "execution_count": 3,
   "metadata": {},
   "outputs": [],
   "source": [
    "import os\n",
    "path = '/media/data6TB/Projects/2020Viirs/dataset/VIIRS-Tile3/'\n",
    "\n",
    "files = []\n",
    "# r=root, d=directories, f = files\n",
    "for r, d, f in os.walk(path):\n",
    "    for file in f:\n",
    "        if '75N060E' in file:\n",
    "            if '_2012'in file:\n",
    "                if 'rade9h.tif' in file:\n",
    "                     files.append(os.path.join(r, file))\n",
    "            elif '_2013' in file:\n",
    "                    if 'rade9h.tif' in file:\n",
    "                         files.append(os.path.join(r, file))            "
   ]
  },
  {
   "cell_type": "code",
   "execution_count": 4,
   "metadata": {},
   "outputs": [
    {
     "name": "stdout",
     "output_type": "stream",
     "text": [
      "/media/data6TB/Projects/2020Viirs/dataset/VIIRS-Tile3/2012E/SVDNB_npp_20120401-20120430_75N060E_vcmcfg_v10_c201605121456/SVDNB_npp_20120401-20120430_75N060E_vcmcfg_v10_c201605121456.avg_rade9h.tif\n",
      "/media/data6TB/Projects/2020Viirs/dataset/VIIRS-Tile3/2012E/SVDNB_npp_20120501-20120531_75N060E_vcmcfg_v10_c201605121458/SVDNB_npp_20120501-20120531_75N060E_vcmcfg_v10_c201605121458.avg_rade9h.tif\n",
      "/media/data6TB/Projects/2020Viirs/dataset/VIIRS-Tile3/2012E/SVDNB_npp_20120601-20120630_75N060E_vcmcfg_v10_c201605121459/SVDNB_npp_20120601-20120630_75N060E_vcmcfg_v10_c201605121459.avg_rade9h.tif\n",
      "/media/data6TB/Projects/2020Viirs/dataset/VIIRS-Tile3/2012E/SVDNB_npp_20120701-20120731_75N060E_vcmcfg_v10_c201605121509/SVDNB_npp_20120701-20120731_75N060E_vcmcfg_v10_c201605121509.avg_rade9h.tif\n",
      "/media/data6TB/Projects/2020Viirs/dataset/VIIRS-Tile3/2012E/SVDNB_npp_20120801-20120831_75N060E_vcmcfg_v10_c201602121348/SVDNB_npp_20120801-20120831_75N060E_vcmcfg_v10_c201602121348.avg_rade9h.tif\n",
      "/media/data6TB/Projects/2020Viirs/dataset/VIIRS-Tile3/2012E/SVDNB_npp_20120901-20120930_75N060E_vcmcfg_v10_c201602090953/SVDNB_npp_20120901-20120930_75N060E_vcmcfg_v10_c201602090953.avg_rade9h.tif\n",
      "/media/data6TB/Projects/2020Viirs/dataset/VIIRS-Tile3/2012E/SVDNB_npp_20121001-20121031_75N060E_vcmcfg_v10_c201602051401/SVDNB_npp_20121001-20121031_75N060E_vcmcfg_v10_c201602051401.avg_rade9h.tif\n",
      "/media/data6TB/Projects/2020Viirs/dataset/VIIRS-Tile3/2012E/SVDNB_npp_20121101-20121130_75N060E_vcmcfg_v10_c201601270845/SVDNB_npp_20121101-20121130_75N060E_vcmcfg_v10_c201601270845.avg_rade9h.tif\n",
      "/media/data6TB/Projects/2020Viirs/dataset/VIIRS-Tile3/2012E/SVDNB_npp_20121201-20121231_75N060E_vcmcfg_v10_c201601041440/SVDNB_npp_20121201-20121231_75N060E_vcmcfg_v10_c201601041440.avg_rade9h.tif\n",
      "/media/data6TB/Projects/2020Viirs/dataset/VIIRS-Tile3/2013E/SVDNB_npp_20130101-20130131_75N060E_vcmcfg_v10_c201605121529/SVDNB_npp_20130101-20130131_75N060E_vcmcfg_v10_c201605121529.avg_rade9h.tif\n",
      "/media/data6TB/Projects/2020Viirs/dataset/VIIRS-Tile3/2013E/SVDNB_npp_20130201-20130228_75N060E_vcmcfg_v10_c201605131247/SVDNB_npp_20130201-20130228_75N060E_vcmcfg_v10_c201605131247.avg_rade9h.tif\n",
      "/media/data6TB/Projects/2020Viirs/dataset/VIIRS-Tile3/2013E/SVDNB_npp_20130301-20130331_75N060E_vcmcfg_v10_c201605131250/SVDNB_npp_20130301-20130331_75N060E_vcmcfg_v10_c201605131250.avg_rade9h.tif\n",
      "/media/data6TB/Projects/2020Viirs/dataset/VIIRS-Tile3/2013E/SVDNB_npp_20130401-20130430_75N060E_vcmcfg_v10_c201605131251/SVDNB_npp_20130401-20130430_75N060E_vcmcfg_v10_c201605131251.avg_rade9h.tif\n",
      "/media/data6TB/Projects/2020Viirs/dataset/VIIRS-Tile3/2013E/SVDNB_npp_20130501-20130531_75N060E_vcmcfg_v10_c201605131256/SVDNB_npp_20130501-20130531_75N060E_vcmcfg_v10_c201605131256.avg_rade9h.tif\n",
      "/media/data6TB/Projects/2020Viirs/dataset/VIIRS-Tile3/2013E/SVDNB_npp_20130601-20130630_75N060E_vcmcfg_v10_c201605131304/SVDNB_npp_20130601-20130630_75N060E_vcmcfg_v10_c201605131304.avg_rade9h.tif\n",
      "/media/data6TB/Projects/2020Viirs/dataset/VIIRS-Tile3/2013E/SVDNB_npp_20130701-20130731_75N060E_vcmcfg_v10_c201605131305/SVDNB_npp_20130701-20130731_75N060E_vcmcfg_v10_c201605131305.avg_rade9h.tif\n",
      "/media/data6TB/Projects/2020Viirs/dataset/VIIRS-Tile3/2013E/SVDNB_npp_20130801-20130831_75N060E_vcmcfg_v10_c201605131312/SVDNB_npp_20130801-20130831_75N060E_vcmcfg_v10_c201605131312.avg_rade9h.tif\n",
      "/media/data6TB/Projects/2020Viirs/dataset/VIIRS-Tile3/2013E/SVDNB_npp_20130901-20130930_75N060E_vcmcfg_v10_c201605131325/SVDNB_npp_20130901-20130930_75N060E_vcmcfg_v10_c201605131325.avg_rade9h.tif\n",
      "/media/data6TB/Projects/2020Viirs/dataset/VIIRS-Tile3/2013E/SVDNB_npp_20131001-20131031_75N060E_vcmcfg_v10_c201605131331/SVDNB_npp_20131001-20131031_75N060E_vcmcfg_v10_c201605131331.avg_rade9h.tif\n",
      "/media/data6TB/Projects/2020Viirs/dataset/VIIRS-Tile3/2013E/SVDNB_npp_20131101-20131130_75N060E_vcmcfg_v10_c201605131332/SVDNB_npp_20131101-20131130_75N060E_vcmcfg_v10_c201605131332.avg_rade9h.tif\n",
      "/media/data6TB/Projects/2020Viirs/dataset/VIIRS-Tile3/2013E/SVDNB_npp_20131201-20131231_75N060E_vcmcfg_v10_c201605131341/SVDNB_npp_20131201-20131231_75N060E_vcmcfg_v10_c201605131341.avg_rade9h.tif\n"
     ]
    }
   ],
   "source": [
    "for img in files:\n",
    "    print(img)"
   ]
  },
  {
   "cell_type": "code",
   "execution_count": 5,
   "metadata": {},
   "outputs": [],
   "source": [
    "# data=json.load(open(\"json/india.json\"))\n",
    "# geom=[data['geometry']]\n",
    "\n",
    "# with rasterio.open('viirsimages/SVDNB_npp_20120401-20120430_75N060E_vcmcfg_v10_c201605121456.avg_rade9h.tif') as src:\n",
    "#         out_image,out_transform = rasterio.mask.mask(src, geom,all_touched=True, nodata=0.0,crop=True)\n",
    "# raster_array=out_image[0]"
   ]
  },
  {
   "cell_type": "code",
   "execution_count": 6,
   "metadata": {},
   "outputs": [],
   "source": [
    "# scaled=[]\n",
    "# max=raster_array.max()\n",
    "# min=raster_array.min()\n",
    "# a=max-min"
   ]
  },
  {
   "cell_type": "code",
   "execution_count": 7,
   "metadata": {},
   "outputs": [],
   "source": [
    "# for row in range (len(raster_array)):\n",
    "#     for col in range(len(raster_array[0])):\n",
    "#         i=raster_array[row][col]\n",
    "#         scaled.append((i-min)*63/a)"
   ]
  },
  {
   "cell_type": "code",
   "execution_count": 8,
   "metadata": {},
   "outputs": [],
   "source": [
    "# scaled=scaled+min"
   ]
  },
  {
   "cell_type": "code",
   "execution_count": 9,
   "metadata": {},
   "outputs": [],
   "source": [
    "# scaled.max()"
   ]
  },
  {
   "cell_type": "code",
   "execution_count": 10,
   "metadata": {},
   "outputs": [],
   "source": [
    "# scaled.min()"
   ]
  },
  {
   "cell_type": "code",
   "execution_count": 11,
   "metadata": {},
   "outputs": [],
   "source": [
    "def scale_f(img):\n",
    "    data=json.load(open(\"json/india.json\"))\n",
    "    geom=[data['geometry']]\n",
    "    scaled=[]\n",
    "    with rasterio.open(img) as src:\n",
    "             out_image,out_transform = rasterio.mask.mask(src, geom,all_touched=True, nodata=0.0,crop=True)\n",
    "    raster_array=out_image[0]\n",
    "    max=raster_array.max()\n",
    "    min=raster_array.min()\n",
    "    a=max-min\n",
    "    for row in range (len(raster_array)):\n",
    "        for col in range(len(raster_array[0])):\n",
    "            i=raster_array[row][col]\n",
    "            y=(i-min)*63.00/a\n",
    "            scaled.append(y)\n",
    "    scaled= scaled+min\n",
    "    return [scaled.max(),scaled.min()]"
   ]
  },
  {
   "cell_type": "code",
   "execution_count": 12,
   "metadata": {},
   "outputs": [],
   "source": [
    "with open('scaleviirs.csv','w', newline='') as f:\n",
    "    for img in files:\n",
    "        thewriter=csv.writer(f)\n",
    "        thewriter.writerow(img)\n",
    "        thewriter.writerow([img[54:58],scale_f(img)])"
   ]
  },
  {
   "cell_type": "code",
   "execution_count": 13,
   "metadata": {},
   "outputs": [
    {
     "ename": "FileNotFoundError",
     "evalue": "[Errno 2] No such file or directory: 'VIIRS_lights_monthly_2012_2017_DistrictLevel_IND_share_new.dta'",
     "output_type": "error",
     "traceback": [
      "\u001b[0;31m---------------------------------------------------------------------------\u001b[0m",
      "\u001b[0;31mFileNotFoundError\u001b[0m                         Traceback (most recent call last)",
      "\u001b[0;32m<ipython-input-13-800ad9429bbe>\u001b[0m in \u001b[0;36m<module>\u001b[0;34m\u001b[0m\n\u001b[0;32m----> 1\u001b[0;31m \u001b[0mdata\u001b[0m \u001b[0;34m=\u001b[0m \u001b[0mpd\u001b[0m\u001b[0;34m.\u001b[0m\u001b[0mio\u001b[0m\u001b[0;34m.\u001b[0m\u001b[0mstata\u001b[0m\u001b[0;34m.\u001b[0m\u001b[0mread_stata\u001b[0m\u001b[0;34m(\u001b[0m\u001b[0;34m'VIIRS_lights_monthly_2012_2017_DistrictLevel_IND_share_new.dta'\u001b[0m\u001b[0;34m)\u001b[0m\u001b[0;34m\u001b[0m\u001b[0;34m\u001b[0m\u001b[0m\n\u001b[0m\u001b[1;32m      2\u001b[0m \u001b[0mdata\u001b[0m\u001b[0;34m.\u001b[0m\u001b[0mto_csv\u001b[0m\u001b[0;34m(\u001b[0m\u001b[0;34m'my_stata_file.csv'\u001b[0m\u001b[0;34m)\u001b[0m\u001b[0;34m\u001b[0m\u001b[0;34m\u001b[0m\u001b[0m\n",
      "\u001b[0;32m/opt/anaconda3/lib/python3.7/site-packages/pandas/io/stata.py\u001b[0m in \u001b[0;36mread_stata\u001b[0;34m(filepath_or_buffer, convert_dates, convert_categoricals, index_col, convert_missing, preserve_dtypes, columns, order_categoricals, chunksize, iterator)\u001b[0m\n\u001b[1;32m    184\u001b[0m         \u001b[0mcolumns\u001b[0m\u001b[0;34m=\u001b[0m\u001b[0mcolumns\u001b[0m\u001b[0;34m,\u001b[0m\u001b[0;34m\u001b[0m\u001b[0;34m\u001b[0m\u001b[0m\n\u001b[1;32m    185\u001b[0m         \u001b[0morder_categoricals\u001b[0m\u001b[0;34m=\u001b[0m\u001b[0morder_categoricals\u001b[0m\u001b[0;34m,\u001b[0m\u001b[0;34m\u001b[0m\u001b[0;34m\u001b[0m\u001b[0m\n\u001b[0;32m--> 186\u001b[0;31m         \u001b[0mchunksize\u001b[0m\u001b[0;34m=\u001b[0m\u001b[0mchunksize\u001b[0m\u001b[0;34m,\u001b[0m\u001b[0;34m\u001b[0m\u001b[0;34m\u001b[0m\u001b[0m\n\u001b[0m\u001b[1;32m    187\u001b[0m     )\n\u001b[1;32m    188\u001b[0m \u001b[0;34m\u001b[0m\u001b[0m\n",
      "\u001b[0;32m/opt/anaconda3/lib/python3.7/site-packages/pandas/io/stata.py\u001b[0m in \u001b[0;36m__init__\u001b[0;34m(self, path_or_buf, convert_dates, convert_categoricals, index_col, convert_missing, preserve_dtypes, columns, order_categoricals, chunksize)\u001b[0m\n\u001b[1;32m   1048\u001b[0m \u001b[0;34m\u001b[0m\u001b[0m\n\u001b[1;32m   1049\u001b[0m         \u001b[0;32mif\u001b[0m \u001b[0misinstance\u001b[0m\u001b[0;34m(\u001b[0m\u001b[0mpath_or_buf\u001b[0m\u001b[0;34m,\u001b[0m \u001b[0;34m(\u001b[0m\u001b[0mstr\u001b[0m\u001b[0;34m,\u001b[0m \u001b[0mbytes\u001b[0m\u001b[0;34m)\u001b[0m\u001b[0;34m)\u001b[0m\u001b[0;34m:\u001b[0m\u001b[0;34m\u001b[0m\u001b[0;34m\u001b[0m\u001b[0m\n\u001b[0;32m-> 1050\u001b[0;31m             \u001b[0mself\u001b[0m\u001b[0;34m.\u001b[0m\u001b[0mpath_or_buf\u001b[0m \u001b[0;34m=\u001b[0m \u001b[0mopen\u001b[0m\u001b[0;34m(\u001b[0m\u001b[0mpath_or_buf\u001b[0m\u001b[0;34m,\u001b[0m \u001b[0;34m\"rb\"\u001b[0m\u001b[0;34m)\u001b[0m\u001b[0;34m\u001b[0m\u001b[0;34m\u001b[0m\u001b[0m\n\u001b[0m\u001b[1;32m   1051\u001b[0m         \u001b[0;32melse\u001b[0m\u001b[0;34m:\u001b[0m\u001b[0;34m\u001b[0m\u001b[0;34m\u001b[0m\u001b[0m\n\u001b[1;32m   1052\u001b[0m             \u001b[0;31m# Copy to BytesIO, and ensure no encoding\u001b[0m\u001b[0;34m\u001b[0m\u001b[0;34m\u001b[0m\u001b[0;34m\u001b[0m\u001b[0m\n",
      "\u001b[0;31mFileNotFoundError\u001b[0m: [Errno 2] No such file or directory: 'VIIRS_lights_monthly_2012_2017_DistrictLevel_IND_share_new.dta'"
     ]
    }
   ],
   "source": [
    "data = pd.io.stata.read_stata('VIIRS_lights_monthly_2012_2017_DistrictLevel_IND_share_new.dta')\n",
    "data.to_csv('my_stata_file.csv')"
   ]
  },
  {
   "cell_type": "code",
   "execution_count": null,
   "metadata": {},
   "outputs": [],
   "source": [
    "df=pd.read_csv('my_stata_file.csv')"
   ]
  },
  {
   "cell_type": "code",
   "execution_count": null,
   "metadata": {},
   "outputs": [],
   "source": [
    "df[df['State_code']==29].head()"
   ]
  },
  {
   "cell_type": "code",
   "execution_count": null,
   "metadata": {},
   "outputs": [],
   "source": [
    "t='/media/data6TB/Projects/2020Viirs/dataset/VIIRS-Tile3/2012'"
   ]
  },
  {
   "cell_type": "code",
   "execution_count": null,
   "metadata": {},
   "outputs": [],
   "source": [
    "t[54:58]"
   ]
  },
  {
   "cell_type": "code",
   "execution_count": null,
   "metadata": {},
   "outputs": [],
   "source": []
  }
 ],
 "metadata": {
  "kernelspec": {
   "display_name": "Python 3",
   "language": "python",
   "name": "python3"
  },
  "language_info": {
   "codemirror_mode": {
    "name": "ipython",
    "version": 3
   },
   "file_extension": ".py",
   "mimetype": "text/x-python",
   "name": "python",
   "nbconvert_exporter": "python",
   "pygments_lexer": "ipython3",
   "version": "3.7.6"
  }
 },
 "nbformat": 4,
 "nbformat_minor": 2
}
