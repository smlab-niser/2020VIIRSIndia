{
 "cells": [
  {
   "cell_type": "code",
   "execution_count": 8,
   "metadata": {},
   "outputs": [],
   "source": [
    "# Importing the required packages\n",
    "import os\n",
    "import json\n",
    "import rasterio\n",
    "import rasterio.features\n",
    "import shapely.geometry\n",
    "import pandas as pd\n",
    "from affine import Affine\n",
    "import numpy as np\n",
    "from matplotlib import pyplot as plt\n",
    "import csv"
   ]
  },
  {
   "cell_type": "code",
   "execution_count": 9,
   "metadata": {},
   "outputs": [],
   "source": [
    "'''\n",
    "Raster function for india to get total luminosity of India  \n",
    "\n",
    "Open the source image as a raster object, to get India we crop raster by calling rasterio.mask.mask function \n",
    "documentation of rasterio.mask.mask:' https://rasterio.readthedocs.io/en/latest/api/rasterio.mask.html#rasterio.mask.raster_geometry_mask'\n",
    "\n",
    "Input: The function has parameters first is raster object second is geometry of region of interest here it is India's geometry, which is extracted from json file of India,\n",
    "\n",
    "Output: The outputs of mask function have a tuple which has intensity of India, we sum all elements to get total intensity\n",
    "'''\n",
    "    \n",
    "def raster_array_India(image):\n",
    "    sumi=0\n",
    "    data=json.load(open(\"india.json\"))\n",
    "    ind_geom=[data['geometry']]\n",
    "\n",
    "    with rasterio.open(image) as src:\n",
    "        out_imageind,out_transform = rasterio.mask.mask(src, ind_geom, all_touched=True, nodata=0.0,crop=True)\n",
    "    raster_array=out_imageind[0]   \n",
    "    for row in range (len(raster_array)):\n",
    "         for col in range(len(raster_array[0])):\n",
    "                if(raster_array[row][col]<0.0):\n",
    "                    raster_array[row][col]=0.0\n",
    "                sumi = sumi + raster_array[row][col]\n",
    "    return sumi\n",
    "\n",
    "\n",
    "'''\n",
    "Raster array function for states, to get luminosity of a state\n",
    "1. We open the source image as a raster object, to get the reqired state we crop raster by calling rasterio.mask.mask function \n",
    "documentation of rasterio.mask.mask:' https://rasterio.readthedocs.io/en/latest/api/rasterio.mask.html#rasterio.mask.raster_geometry_mask'\n",
    "2. Input : The function has parameters first is raster object second is geometry of region of interest here it is the state's geometry, which is extracted from json file of India's states ,\n",
    "3. Output : The outputs of mask function have a tuple which has intensity of the state, we sum all elements to get total intensity  \n",
    "'''\n",
    "\n",
    "def raster_array_state(image,state):\n",
    "    sumi=0\n",
    "    for x in data_states['features']:\n",
    "        if (x['id']==state):\n",
    "            state_geo=[x['geometry']]\n",
    "    \n",
    "    with rasterio.open(image) as src:\n",
    "        out_imagest,out_transform = rasterio.mask.mask(src,state_geo , all_touched=True, nodata=0.0,crop=True)   \n",
    "    raster_array=  out_imagest[0]\n",
    "    for row in range (len(raster_array)):\n",
    "            for col in range(len(raster_array[0])):\n",
    "                if(raster_array[row][col]<0.0):\n",
    "                    raster_array[row][col]=0.0\n",
    "                sumi = sumi + raster_array[row][col]\n",
    "    return sumi\n"
   ]
  },
  {
   "cell_type": "code",
   "execution_count": 3,
   "metadata": {},
   "outputs": [],
   "source": [
    "# Store all the VIIRS tif files in \"files\"\n",
    "import os\n",
    "path = '../dataset/'\n",
    "\n",
    "files = []\n",
    "# r=root, d=directories, f = files\n",
    "for r, d, f in os.walk(path):\n",
    "    for file in f:\n",
    "        if 'rade9h.tif' in file:\n",
    "            files.append(os.path.join(r, file))\n",
    "\n",
    "# # Print the filename for verification\n",
    "# for f in files:\n",
    "#     print(f)"
   ]
  },
  {
   "cell_type": "code",
   "execution_count": 7,
   "metadata": {},
   "outputs": [],
   "source": [
    "\n",
    "# Summing for India and saving in Indiadata.csv\n",
    "with open('Indiadata.csv','w', newline='') as f:\n",
    "    thewriter=csv.writer(f)\n",
    "    for vf in files:\n",
    "        thewriter.writerow([vf[26:32],raster_array_India(vf)])\n",
    "\n",
    "# # Sample code to test for 1 file\n",
    "# sampleF = '../dataset/2012E/SVDNB_npp_20120401-20120430_75N060E_vcmcfg_v10_c201605121456/SVDNB_npp_20120401-20120430_75N060E_vcmcfg_v10_c201605121456.avg_rade9h.tif'\n",
    "# print(raster_array(sampleF))"
   ]
  },
  {
   "cell_type": "code",
   "execution_count": 12,
   "metadata": {},
   "outputs": [],
   "source": [
    "#makes list a of staes in json file to match in raster array state function\n",
    "a=[]\n",
    "data=json.load(open(\"json/states.json\"))\n",
    "for x in data[\"features\"]:\n",
    "    a.append(x['id'])\n",
    "\n",
    "# print(a)"
   ]
  },
  {
   "cell_type": "code",
   "execution_count": null,
   "metadata": {},
   "outputs": [],
   "source": [
    "with open('data.csv','w', newline='') as f:\n",
    "    thewriter=csv.writer(f)\n",
    "    for i in a:\n",
    "        thewriter.writerow(['201904',i,raster_array_state('SVDNB_npp_20190401-20190430_75N060E_vcmcfg_v10_c201905191000.avg_rade9h.tif',i)])"
   ]
  }
 ],
 "metadata": {
  "kernelspec": {
   "display_name": "Python 3",
   "language": "python",
   "name": "python3"
  },
  "language_info": {
   "codemirror_mode": {
    "name": "ipython",
    "version": 3
   },
   "file_extension": ".py",
   "mimetype": "text/x-python",
   "name": "python",
   "nbconvert_exporter": "python",
   "pygments_lexer": "ipython3",
   "version": "3.7.6-final"
  }
 },
 "nbformat": 4,
 "nbformat_minor": 2
}