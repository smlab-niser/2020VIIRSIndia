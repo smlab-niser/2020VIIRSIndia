{
 "cells": [
  {
   "cell_type": "code",
   "execution_count": 1,
   "metadata": {},
   "outputs": [],
   "source": [
    "import os\n",
    "import json\n",
    "import rasterio\n",
    "import rasterio.features\n",
    "import shapely.geometry\n",
    "import pandas as pd\n",
    "from affine import Affine\n",
    "import numpy as np\n",
    "from matplotlib import pyplot as plt\n",
    "import csv"
   ]
  },
  {
   "cell_type": "code",
   "execution_count": 17,
   "metadata": {},
   "outputs": [],
   "source": [
    "def raster_array_India(image):\n",
    "    sumi=0\n",
    "    data=json.load(open(\"india.json\"))\n",
    "    shape = shapely.geometry.shape(data[\"geometry\"])\n",
    "\n",
    "    lon_min, lat_min, lon_max, lat_max = shape.bounds\n",
    "    raster_file = rasterio.open(image, 'r')\n",
    "\n",
    "    bottom, left = raster_file.index(lon_min, lat_min)\n",
    "    top, right = raster_file.index(lon_max, lat_max)\n",
    "\n",
    "    raster_window = ((top, bottom+1), (left, right+1))\n",
    "    raster_array = raster_file.read(indexes=1, window=raster_window)\n",
    "    for row in range (len(raster_array)):\n",
    "        for col in range(len(raster_array[0])):\n",
    "            if(raster_array[row][col]<0.0):\n",
    "                raster_array[row][col]=0.0\n",
    "            sumi = sumi + raster_array[row][col]\n",
    "    return sumi\n",
    "#raster function for india to get total luminosity of India"
   ]
  },
  {
   "cell_type": "code",
   "execution_count": null,
   "metadata": {},
   "outputs": [],
   "source": [
    "with open('data.csv','w', newline='') as f:\n",
    "    thewriter=csv.writer(f)\n",
    "    thewriter.writerow(['201904',raster_array_India('SVDNB_npp_20190401-20190430_75N060E_vcmcfg_v10_c201905191000.avg_rade9h.tif')])"
   ]
  },
  {
   "cell_type": "code",
   "execution_count": 14,
   "metadata": {},
   "outputs": [],
   "source": [
    "def raster_array_state(image,state):\n",
    "    sumi=0\n",
    "    for x in data['features']:\n",
    "        if (x['id']==state):\n",
    "            shape = shapely.geometry.shape(x['geometry'])\n",
    "            \n",
    "    lon_min, lat_min, lon_max, lat_max = shape.bounds\n",
    "    raster_file = rasterio.open(image, 'r')\n",
    "\n",
    "    bottom, left = raster_file.index(lon_min, lat_min)\n",
    "    top, right = raster_file.index(lon_max, lat_max)\n",
    "\n",
    "    raster_window = ((top, bottom+1), (left, right+1))\n",
    "    raster_array = raster_file.read(indexes=1, window=raster_window)\n",
    "    for row in range (len(raster_array)):\n",
    "        for col in range(len(raster_array[0])):\n",
    "            if(raster_array[row][col]<0.0):\n",
    "                raster_array[row][col]=0.0\n",
    "            sumi = sumi + raster_array[row][col]\n",
    "    return sumi\n",
    "#raster array function for states, to get luminosity of a state"
   ]
  },
  {
   "cell_type": "code",
   "execution_count": 3,
   "metadata": {},
   "outputs": [],
   "source": [
    "a=[]\n",
    "data=json.load(open(\"states.json\"))\n",
    "for x in data[\"features\"]:\n",
    "    a.append(x['id'])\n",
    "#makes list a of staes in json file to match in raster array state function"
   ]
  },
  {
   "cell_type": "code",
   "execution_count": 16,
   "metadata": {},
   "outputs": [],
   "source": [
    "with open('data.csv','w', newline='') as f:\n",
    "    thewriter=csv.writer(f)\n",
    "    for i in a:\n",
    "        thewriter.writerow(['201904',i,raster_array_state('SVDNB_npp_20190401-20190430_75N060E_vcmcfg_v10_c201905191000.avg_rade9h.tif',i)])\n",
    "        #running this will give luminosity for all states in given image"
   ]
  },
  {
   "cell_type": "code",
   "execution_count": null,
   "metadata": {},
   "outputs": [],
   "source": []
  }
 ],
 "metadata": {
  "kernelspec": {
   "display_name": "Python 3",
   "language": "python",
   "name": "python3"
  },
  "language_info": {
   "codemirror_mode": {
    "name": "ipython",
    "version": 3
   },
   "file_extension": ".py",
   "mimetype": "text/x-python",
   "name": "python",
   "nbconvert_exporter": "python",
   "pygments_lexer": "ipython3",
   "version": "3.7.7"
  }
 },
 "nbformat": 4,
 "nbformat_minor": 2
}
