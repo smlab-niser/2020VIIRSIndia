{
 "cells": [
  {
   "cell_type": "code",
   "execution_count": 1,
   "metadata": {},
   "outputs": [],
   "source": [
    "# Importing the required packages\n",
    "import os\n",
    "import json\n",
    "import rasterio\n",
    "import rasterio.features\n",
    "import rasterio.mask\n",
    "import shapely.geometry\n",
    "import pandas as pd\n",
    "from affine import Affine\n",
    "import numpy as np\n",
    "from matplotlib import pyplot as plt\n",
    "import csv"
   ]
  },
  {
   "cell_type": "code",
   "execution_count": 2,
   "metadata": {},
   "outputs": [],
   "source": [
    "'''\n",
    "Raster function for india to get total luminosity of India  \n",
    "\n",
    "Open the source image as a raster object, to get India we crop raster by calling rasterio.mask.mask function \n",
    "documentation of rasterio.mask.mask:' https://rasterio.readthedocs.io/en/latest/api/rasterio.mask.html#rasterio.mask.raster_geometry_mask'\n",
    "\n",
    "Input: The function has parameters first is raster object second is geometry of region of interest here it is India's geometry, which is extracted from json file of India,\n",
    "\n",
    "Output: The outputs of mask function have a tuple which has intensity of India, we sum all elements to get total intensity\n",
    "'''\n",
    "    \n",
    "def raster_array_India(image):\n",
    "    sumi=0\n",
    "    data=json.load(open(\"json/india.json\"))\n",
    "    ind_geom=[data['geometry']]\n",
    "\n",
    "    with rasterio.open(image) as src:\n",
    "        out_imageind,out_transform = rasterio.mask.mask(src, ind_geom, all_touched=True, nodata=0.0,crop=True)\n",
    "    raster_array=out_imageind[0]   \n",
    "    for row in range (len(raster_array)):\n",
    "         for col in range(len(raster_array[0])):\n",
    "                if(raster_array[row][col]<0.0):\n",
    "                    raster_array[row][col]=0.0\n",
    "                sumi = sumi + raster_array[row][col]\n",
    "    return sumi\n",
    "\n"
   ]
  },
  {
   "cell_type": "code",
   "execution_count": 3,
   "metadata": {},
   "outputs": [
    {
     "name": "stdout",
     "output_type": "stream",
     "text": [
      "../dataset/dmsp-ols/F101992.v4b.avg_lights_x_pct/F101992.v4b.pct_lights.tif\n",
      "../dataset/dmsp-ols/F101992.v4b.avg_lights_x_pct/F101992.v4b.avg_lights_x_pct.tif\n",
      "../dataset/dmsp-ols/F101993.v4b.avg_lights_x_pct/F101993.v4b.pct_lights.tif\n",
      "../dataset/dmsp-ols/F101993.v4b.avg_lights_x_pct/F101993.v4b.avg_lights_x_pct.tif\n",
      "../dataset/dmsp-ols/F101994.v4b.avg_lights_x_pct/F101994.v4b.pct_lights.tif\n",
      "../dataset/dmsp-ols/F101994.v4b.avg_lights_x_pct/F101994.v4b.avg_lights_x_pct.tif\n",
      "../dataset/dmsp-ols/F121994.v4b.avg_lights_x_pct/F121994.v4b.pct_lights.tif\n",
      "../dataset/dmsp-ols/F121994.v4b.avg_lights_x_pct/F121994.v4b.avg_lights_x_pct.tif\n",
      "../dataset/dmsp-ols/F121995.v4b.avg_lights_x_pct/F121995.v4b.pct_lights.tif\n",
      "../dataset/dmsp-ols/F121995.v4b.avg_lights_x_pct/F121995.v4b.avg_lights_x_pct.tif\n",
      "../dataset/dmsp-ols/F121996.v4b.avg_lights_x_pct/F121996.v4b.pct_lights.tif\n",
      "../dataset/dmsp-ols/F121996.v4b.avg_lights_x_pct/F121996.v4b.avg_lights_x_pct.tif\n",
      "../dataset/dmsp-ols/F121997.v4b.avg_lights_x_pct/F121997.v4b.pct_lights.tif\n",
      "../dataset/dmsp-ols/F121997.v4b.avg_lights_x_pct/F121997.v4b.avg_lights_x_pct.tif\n",
      "../dataset/dmsp-ols/F121998.v4b.avg_lights_x_pct/F121998.v4b.pct_lights.tif\n",
      "../dataset/dmsp-ols/F121998.v4b.avg_lights_x_pct/F121998.v4b.avg_lights_x_pct.tif\n",
      "../dataset/dmsp-ols/F121999.v4b.avg_lights_x_pct/F121999.v4b.pct_lights.tif\n",
      "../dataset/dmsp-ols/F121999.v4b.avg_lights_x_pct/F121999.v4b.avg_lights_x_pct.tif\n",
      "../dataset/dmsp-ols/F141997.v4b.avg_lights_x_pct/F141997.v4b.pct_lights.tif\n",
      "../dataset/dmsp-ols/F141997.v4b.avg_lights_x_pct/F141997.v4b.avg_lights_x_pct.tif\n",
      "../dataset/dmsp-ols/F141998.v4b.avg_lights_x_pct/F141998.v4b.pct_lights.tif\n",
      "../dataset/dmsp-ols/F141998.v4b.avg_lights_x_pct/F141998.v4b.avg_lights_x_pct.tif\n",
      "../dataset/dmsp-ols/F141999.v4b.avg_lights_x_pct/F141999.v4b.pct_lights.tif\n",
      "../dataset/dmsp-ols/F141999.v4b.avg_lights_x_pct/F141999.v4b.avg_lights_x_pct.tif\n",
      "../dataset/dmsp-ols/F142000.v4b.avg_lights_x_pct/F142000.v4b.avg_lights_x_pct.tif\n",
      "../dataset/dmsp-ols/F142000.v4b.avg_lights_x_pct/F142000.v4b.pct_lights.tif\n",
      "../dataset/dmsp-ols/F142001.v4b.avg_lights_x_pct/F142001.v4b.avg_lights_x_pct.tif\n",
      "../dataset/dmsp-ols/F142001.v4b.avg_lights_x_pct/F142001.v4b.pct_lights.tif\n",
      "../dataset/dmsp-ols/F142002.v4b.avg_lights_x_pct/F142002.v4b.avg_lights_x_pct.tif\n",
      "../dataset/dmsp-ols/F142002.v4b.avg_lights_x_pct/F142002.v4b.pct_lights.tif\n",
      "../dataset/dmsp-ols/F142003.v4b.avg_lights_x_pct/F142003.v4b.avg_lights_x_pct.tif\n",
      "../dataset/dmsp-ols/F142003.v4b.avg_lights_x_pct/F142003.v4b.pct_lights.tif\n",
      "../dataset/dmsp-ols/F152000.v4b.avg_lights_x_pct/F152000.v4b.avg_lights_x_pct.tif\n",
      "../dataset/dmsp-ols/F152000.v4b.avg_lights_x_pct/F152000.v4b.pct_lights.tif\n",
      "../dataset/dmsp-ols/F152001.v4b.avg_lights_x_pct/F152001.v4b.avg_lights_x_pct.tif\n",
      "../dataset/dmsp-ols/F152001.v4b.avg_lights_x_pct/F152001.v4b.pct_lights.tif\n",
      "../dataset/dmsp-ols/F152002.v4b.avg_lights_x_pct/F152002.v4b.avg_lights_x_pct.tif\n",
      "../dataset/dmsp-ols/F152002.v4b.avg_lights_x_pct/F152002.v4b.pct_lights.tif\n",
      "../dataset/dmsp-ols/F152003.v4b.avg_lights_x_pct/F152003.v4b.avg_lights_x_pct.tif\n",
      "../dataset/dmsp-ols/F152003.v4b.avg_lights_x_pct/F152003.v4b.pct_lights.tif\n",
      "../dataset/dmsp-ols/F152004.v4b.avg_lights_x_pct/F152004.v4b.avg_lights_x_pct.tif\n",
      "../dataset/dmsp-ols/F152004.v4b.avg_lights_x_pct/F152004.v4b.pct_lights.tif\n",
      "../dataset/dmsp-ols/F152005.v4b.avg_lights_x_pct/F152005.v4b.avg_lights_x_pct.tif\n",
      "../dataset/dmsp-ols/F152005.v4b.avg_lights_x_pct/F152005.v4b.pct_lights.tif\n",
      "../dataset/dmsp-ols/F152006.v4b.avg_lights_x_pct/F152006.v4b.avg_lights_x_pct.tif\n",
      "../dataset/dmsp-ols/F152006.v4b.avg_lights_x_pct/F152006.v4b.pct_lights.tif\n",
      "../dataset/dmsp-ols/F152007.v4b.avg_lights_x_pct/F152007.v4b.avg_lights_x_pct.tif\n",
      "../dataset/dmsp-ols/F152007.v4b.avg_lights_x_pct/F152007.v4b.pct_lights.tif\n",
      "../dataset/dmsp-ols/F162004.v4b.avg_lights_x_pct/F162004.v4b.avg_lights_x_pct.tif\n",
      "../dataset/dmsp-ols/F162004.v4b.avg_lights_x_pct/F162004.v4b.pct_lights.tif\n",
      "../dataset/dmsp-ols/F162005.v4b.avg_lights_x_pct/F162005.v4b.avg_lights_x_pct.tif\n",
      "../dataset/dmsp-ols/F162005.v4b.avg_lights_x_pct/F162005.v4b.pct_lights.tif\n",
      "../dataset/dmsp-ols/F162006.v4b.avg_lights_x_pct/F162006.v4b.avg_lights_x_pct.tif\n",
      "../dataset/dmsp-ols/F162006.v4b.avg_lights_x_pct/F162006.v4b.pct_lights.tif\n",
      "../dataset/dmsp-ols/F162007.v4b.avg_lights_x_pct/F162007.v4b.avg_lights_x_pct.tif\n",
      "../dataset/dmsp-ols/F162007.v4b.avg_lights_x_pct/F162007.v4b.pct_lights.tif\n",
      "../dataset/dmsp-ols/F162008.v4b.avg_lights_x_pct/F162008.v4b.avg_lights_x_pct.tif\n",
      "../dataset/dmsp-ols/F162008.v4b.avg_lights_x_pct/F162008.v4b.pct_lights.tif\n",
      "../dataset/dmsp-ols/F162009.v4b.avg_lights_x_pct/F162009.v4b.avg_lights_x_pct.tif\n",
      "../dataset/dmsp-ols/F162009.v4b.avg_lights_x_pct/F162009.v4b.pct_lights.tif\n",
      "../dataset/dmsp-ols/F182010.v4c.avg_lights_x_pct/F182010.v4c.avg_lights_x_pct.tif\n",
      "../dataset/dmsp-ols/F182010.v4c.avg_lights_x_pct/F182010.v4c.pct_lights.tif\n",
      "../dataset/dmsp-ols/F182011.v4c.avg_lights_x_pct/F182011.v4c.avg_lights_x_pct.tif\n",
      "../dataset/dmsp-ols/F182012.v4c.avg_lights_x_pct/F182012.v4c.avg_lights_x_pct.tif\n",
      "../dataset/dmsp-ols/F182012.v4c.avg_lights_x_pct/F182012.v4c.pct_lights.tif\n",
      "../dataset/dmsp-ols/F182013.v4c.avg_lights_x_pct/F182013.v4c.avg_lights_x_pct.tif\n",
      "../dataset/dmsp-ols/F182013.v4c.avg_lights_x_pct/F182013.v4c.pct_lights.tif\n"
     ]
    }
   ],
   "source": [
    "# Store all the VIIRS tif files in \"files\"\n",
    "import os\n",
    "path = '../dataset/dmsp-ols/'\n",
    "\n",
    "files = []\n",
    "# r=root, d=directories, f = files\n",
    "for r, d, f in os.walk(path):\n",
    "    for file in f:\n",
    "        if '.tif' in file:\n",
    "            files.append(os.path.join(r, file))\n",
    "\n",
    "# # Print the filename for verification\n",
    "for f in files:\n",
    "    print(f)"
   ]
  },
  {
   "cell_type": "code",
   "execution_count": 4,
   "metadata": {},
   "outputs": [
    {
     "name": "stdout",
     "output_type": "stream",
     "text": [
      "F101992x\n",
      "F101992x\n",
      "F101993x\n",
      "F101993x\n",
      "F101994x\n",
      "F101994x\n",
      "F121994x\n",
      "F121994x\n",
      "F121995x\n",
      "F121995x\n",
      "F121996x\n",
      "F121996x\n",
      "F121997x\n",
      "F121997x\n",
      "F121998x\n",
      "F121998x\n",
      "F121999x\n",
      "F121999x\n",
      "F141997x\n",
      "F141997x\n",
      "F141998x\n",
      "F141998x\n",
      "F141999x\n",
      "F141999x\n",
      "F142000x\n",
      "F142000x\n",
      "F142001x\n",
      "F142001x\n",
      "F142002x\n",
      "F142002x\n",
      "F142003x\n",
      "F142003x\n",
      "F152000x\n",
      "F152000x\n",
      "F152001x\n",
      "F152001x\n",
      "F152002x\n",
      "F152002x\n",
      "F152003x\n",
      "F152003x\n",
      "F152004x\n",
      "F152004x\n",
      "F152005x\n",
      "F152005x\n",
      "F152006x\n",
      "F152006x\n",
      "F152007x\n",
      "F152007x\n",
      "F162004x\n",
      "F162004x\n",
      "F162005x\n",
      "F162005x\n",
      "F162006x\n",
      "F162006x\n",
      "F162007x\n",
      "F162007x\n",
      "F162008x\n",
      "F162008x\n",
      "F162009x\n",
      "F162009x\n",
      "F182010x\n",
      "F182010x\n",
      "F182011x\n",
      "F182012x\n",
      "F182012x\n",
      "F182013x\n",
      "F182013x\n"
     ]
    }
   ],
   "source": [
    "# Summing for India and saving in Indiadata.csv\n",
    "with open('Indiadmsp.csv','w', newline='') as f:\n",
    "    thewriter=csv.writer(f)\n",
    "    for vf in files:\n",
    "        print(vf[20:27] + vf[43:47]) \n",
    "#               str(raster_array_India(vf)))\n",
    "#         thewriter.writerow([vf[27:33],raster_array_India(vf)])"
   ]
  },
  {
   "cell_type": "code",
   "execution_count": 5,
   "metadata": {},
   "outputs": [
    {
     "data": {
      "text/plain": [
       "'2.4.4'"
      ]
     },
     "execution_count": 5,
     "metadata": {},
     "output_type": "execute_result"
    }
   ],
   "source": [
    "rasterio.gdal_version()"
   ]
  },
  {
   "cell_type": "code",
   "execution_count": 6,
   "metadata": {},
   "outputs": [
    {
     "data": {
      "text/plain": [
       "<matplotlib.image.AxesImage at 0x7faeefde2050>"
      ]
     },
     "execution_count": 6,
     "metadata": {},
     "output_type": "execute_result"
    },
    {
     "data": {
      "image/png": "[encoded data removed]",
      "text/plain": [
       "<Figure size 432x288 with 1 Axes>"
      ]
     },
     "metadata": {
      "needs_background": "light"
     },
     "output_type": "display_data"
    }
   ],
   "source": [
    "#this is to show output of mask function when plotted using matplotlib's imshow, depicts India\n",
    "data=json.load(open(\"json/india.json\"))\n",
    "geoms=[data['geometry']]\n",
    "\n",
    "with rasterio.open(\"../dataset/dmsp-ols/F101992.v4b.avg_lights_x_pct/F101992.v4b.avg_lights_x_pct.tif\") as src:\n",
    "        out_image,out_transform = rasterio.mask.mask(src, geoms,crop=True)\n",
    "        \n",
    "plt.imshow(out_image[0],vmin=0,vmax=1)"
   ]
  },
  {
   "cell_type": "code",
   "execution_count": null,
   "metadata": {},
   "outputs": [],
   "source": []
  }
 ],
 "metadata": {
  "kernelspec": {
   "display_name": "Python 3",
   "language": "python",
   "name": "python3"
  },
  "language_info": {
   "codemirror_mode": {
    "name": "ipython",
    "version": 3
   },
   "file_extension": ".py",
   "mimetype": "text/x-python",
   "name": "python",
   "nbconvert_exporter": "python",
   "pygments_lexer": "ipython3",
   "version": "3.7.7"
  }
 },
 "nbformat": 4,
 "nbformat_minor": 4
}
