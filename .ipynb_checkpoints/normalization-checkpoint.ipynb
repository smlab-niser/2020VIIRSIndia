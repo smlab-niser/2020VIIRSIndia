{
 "cells": [
  {
   "cell_type": "code",
   "execution_count": 1,
   "metadata": {},
   "outputs": [],
   "source": [
    "import os\n",
    "import json\n",
    "import rasterio\n",
    "import numpy as np\n",
    "from matplotlib import pyplot as plt\n",
    "import csv\n",
    "import rasterio.mask\n",
    "import pandas as pd"
   ]
  },
  {
   "cell_type": "code",
   "execution_count": 2,
   "metadata": {},
   "outputs": [],
   "source": [
    "path = 'json_files/'\n",
    "\n",
    "files = []\n",
    "# r=root, d=directories, f = files\n",
    "for r, d, f in os.walk(path):\n",
    "    for file in f:\n",
    "            files.append(os.path.join(r, file))\n",
    "for f in files:\n",
    "    print(f)\n",
    "    data=json.load(open(f))"
   ]
  },
  {
   "cell_type": "code",
   "execution_count": 3,
   "metadata": {},
   "outputs": [],
   "source": [
    "import os\n",
    "path = '/media/data6TB/Projects/2020Viirs/dataset/VIIRS-Tile3/'\n",
    "\n",
    "files = []\n",
    "# r=root, d=directories, f = files\n",
    "for r, d, f in os.walk(path):\n",
    "    for file in f:\n",
    "        if '2012'in file:\n",
    "            if '75N060E' in file:\n",
    "                if 'rade9h.tif' in file:\n",
    "                     files.append(os.path.join(r, file))\n",
    "        else:\n",
    "            if '2013' in file:\n",
    "                if '75N060E' in file:\n",
    "                    if 'rade9h.tif' in file:\n",
    "                         files.append(os.path.join(r, file))                "
   ]
  },
  {
   "cell_type": "code",
   "execution_count": 5,
   "metadata": {},
   "outputs": [
    {
     "name": "stdout",
     "output_type": "stream",
     "text": [
      "/media/data6TB/Projects/2020Viirs/dataset/VIIRS-Tile3/2012E/SVDNB_npp_20120401-20120430_75N060E_vcmcfg_v10_c201605121456/SVDNB_npp_20120401-20120430_75N060E_vcmcfg_v10_c201605121456.avg_rade9h.tif\n",
      "/media/data6TB/Projects/2020Viirs/dataset/VIIRS-Tile3/2012E/SVDNB_npp_20120501-20120531_75N060E_vcmcfg_v10_c201605121458/SVDNB_npp_20120501-20120531_75N060E_vcmcfg_v10_c201605121458.avg_rade9h.tif\n",
      "/media/data6TB/Projects/2020Viirs/dataset/VIIRS-Tile3/2012E/SVDNB_npp_20120601-20120630_75N060E_vcmcfg_v10_c201605121459/SVDNB_npp_20120601-20120630_75N060E_vcmcfg_v10_c201605121459.avg_rade9h.tif\n",
      "/media/data6TB/Projects/2020Viirs/dataset/VIIRS-Tile3/2012E/SVDNB_npp_20120701-20120731_75N060E_vcmcfg_v10_c201605121509/SVDNB_npp_20120701-20120731_75N060E_vcmcfg_v10_c201605121509.avg_rade9h.tif\n",
      "/media/data6TB/Projects/2020Viirs/dataset/VIIRS-Tile3/2012E/SVDNB_npp_20120801-20120831_75N060E_vcmcfg_v10_c201602121348/SVDNB_npp_20120801-20120831_75N060E_vcmcfg_v10_c201602121348.avg_rade9h.tif\n",
      "/media/data6TB/Projects/2020Viirs/dataset/VIIRS-Tile3/2012E/SVDNB_npp_20120901-20120930_75N060E_vcmcfg_v10_c201602090953/SVDNB_npp_20120901-20120930_75N060E_vcmcfg_v10_c201602090953.avg_rade9h.tif\n",
      "/media/data6TB/Projects/2020Viirs/dataset/VIIRS-Tile3/2012E/SVDNB_npp_20121001-20121031_75N060E_vcmcfg_v10_c201602051401/SVDNB_npp_20121001-20121031_75N060E_vcmcfg_v10_c201602051401.avg_rade9h.tif\n",
      "/media/data6TB/Projects/2020Viirs/dataset/VIIRS-Tile3/2012E/SVDNB_npp_20121101-20121130_75N060E_vcmcfg_v10_c201601270845/SVDNB_npp_20121101-20121130_75N060E_vcmcfg_v10_c201601270845.avg_rade9h.tif\n",
      "/media/data6TB/Projects/2020Viirs/dataset/VIIRS-Tile3/2012E/SVDNB_npp_20121201-20121231_75N060E_vcmcfg_v10_c201601041440/SVDNB_npp_20121201-20121231_75N060E_vcmcfg_v10_c201601041440.avg_rade9h.tif\n",
      "/media/data6TB/Projects/2020Viirs/dataset/VIIRS-Tile3/2013E/SVDNB_npp_20130101-20130131_75N060E_vcmcfg_v10_c201605121529/SVDNB_npp_20130101-20130131_75N060E_vcmcfg_v10_c201605121529.avg_rade9h.tif\n",
      "/media/data6TB/Projects/2020Viirs/dataset/VIIRS-Tile3/2013E/SVDNB_npp_20130201-20130228_75N060E_vcmcfg_v10_c201605131247/SVDNB_npp_20130201-20130228_75N060E_vcmcfg_v10_c201605131247.avg_rade9h.tif\n",
      "/media/data6TB/Projects/2020Viirs/dataset/VIIRS-Tile3/2013E/SVDNB_npp_20130301-20130331_75N060E_vcmcfg_v10_c201605131250/SVDNB_npp_20130301-20130331_75N060E_vcmcfg_v10_c201605131250.avg_rade9h.tif\n",
      "/media/data6TB/Projects/2020Viirs/dataset/VIIRS-Tile3/2013E/SVDNB_npp_20130401-20130430_75N060E_vcmcfg_v10_c201605131251/SVDNB_npp_20130401-20130430_75N060E_vcmcfg_v10_c201605131251.avg_rade9h.tif\n",
      "/media/data6TB/Projects/2020Viirs/dataset/VIIRS-Tile3/2013E/SVDNB_npp_20130501-20130531_75N060E_vcmcfg_v10_c201605131256/SVDNB_npp_20130501-20130531_75N060E_vcmcfg_v10_c201605131256.avg_rade9h.tif\n",
      "/media/data6TB/Projects/2020Viirs/dataset/VIIRS-Tile3/2013E/SVDNB_npp_20130601-20130630_75N060E_vcmcfg_v10_c201605131304/SVDNB_npp_20130601-20130630_75N060E_vcmcfg_v10_c201605131304.avg_rade9h.tif\n",
      "/media/data6TB/Projects/2020Viirs/dataset/VIIRS-Tile3/2013E/SVDNB_npp_20130701-20130731_75N060E_vcmcfg_v10_c201605131305/SVDNB_npp_20130701-20130731_75N060E_vcmcfg_v10_c201605131305.avg_rade9h.tif\n",
      "/media/data6TB/Projects/2020Viirs/dataset/VIIRS-Tile3/2013E/SVDNB_npp_20130801-20130831_75N060E_vcmcfg_v10_c201605131312/SVDNB_npp_20130801-20130831_75N060E_vcmcfg_v10_c201605131312.avg_rade9h.tif\n",
      "/media/data6TB/Projects/2020Viirs/dataset/VIIRS-Tile3/2013E/SVDNB_npp_20130901-20130930_75N060E_vcmcfg_v10_c201605131325/SVDNB_npp_20130901-20130930_75N060E_vcmcfg_v10_c201605131325.avg_rade9h.tif\n",
      "/media/data6TB/Projects/2020Viirs/dataset/VIIRS-Tile3/2013E/SVDNB_npp_20131001-20131031_75N060E_vcmcfg_v10_c201605131331/SVDNB_npp_20131001-20131031_75N060E_vcmcfg_v10_c201605131331.avg_rade9h.tif\n",
      "/media/data6TB/Projects/2020Viirs/dataset/VIIRS-Tile3/2013E/SVDNB_npp_20131101-20131130_75N060E_vcmcfg_v10_c201605131332/SVDNB_npp_20131101-20131130_75N060E_vcmcfg_v10_c201605131332.avg_rade9h.tif\n",
      "/media/data6TB/Projects/2020Viirs/dataset/VIIRS-Tile3/2013E/SVDNB_npp_20131201-20131231_75N060E_vcmcfg_v10_c201605131341/SVDNB_npp_20131201-20131231_75N060E_vcmcfg_v10_c201605131341.avg_rade9h.tif\n",
      "/media/data6TB/Projects/2020Viirs/dataset/VIIRS-Tile3/2019E/SVDNB_npp_20190101-20190131_75N060E_vcmcfg_v10_c201905201300/SVDNB_npp_20190101-20190131_75N060E_vcmcfg_v10_c201905201300.avg_rade9h.tif\n"
     ]
    }
   ],
   "source": [
    "for img in files:\n",
    "    print(img)"
   ]
  },
  {
   "cell_type": "code",
   "execution_count": 18,
   "metadata": {},
   "outputs": [],
   "source": [
    "data=json.load(open(\"json_files/india.json\"))\n",
    "geom=[data['geometry']]\n",
    "\n",
    "with rasterio.open('viirsimages/SVDNB_npp_20120401-20120430_75N060E_vcmcfg_v10_c201605121456.avg_rade9h.tif') as src:\n",
    "        out_image,out_transform = rasterio.mask.mask(src, geom,all_touched=True, nodata=0.0,crop=True)\n",
    "raster_array=out_image[0]"
   ]
  },
  {
   "cell_type": "code",
   "execution_count": 19,
   "metadata": {},
   "outputs": [],
   "source": [
    "scaled=[]\n",
    "max=raster_array.max()\n",
    "min=raster_array.min()\n",
    "a=max-min"
   ]
  },
  {
   "cell_type": "code",
   "execution_count": 27,
   "metadata": {},
   "outputs": [],
   "source": [
    "for row in range (len(raster_array)):\n",
    "    for col in range(len(raster_array[0])):\n",
    "        i=raster_array[row][col]\n",
    "        scaled.append((i-min)*63/a)"
   ]
  },
  {
   "cell_type": "code",
   "execution_count": 28,
   "metadata": {},
   "outputs": [],
   "source": [
    "scaled=scaled+min"
   ]
  },
  {
   "cell_type": "code",
   "execution_count": 31,
   "metadata": {},
   "outputs": [
    {
     "data": {
      "text/plain": [
       "62.47000002861023"
      ]
     },
     "execution_count": 31,
     "metadata": {},
     "output_type": "execute_result"
    }
   ],
   "source": [
    "scaled.max()"
   ]
  },
  {
   "cell_type": "code",
   "execution_count": 32,
   "metadata": {},
   "outputs": [
    {
     "data": {
      "text/plain": [
       "-1.059999942779541"
      ]
     },
     "execution_count": 32,
     "metadata": {},
     "output_type": "execute_result"
    }
   ],
   "source": [
    "scaled.min()"
   ]
  },
  {
   "cell_type": "code",
   "execution_count": 36,
   "metadata": {},
   "outputs": [],
   "source": [
    "def scale_f(img):\n",
    "    data=json.load(open(\"json_files/india.json\"))\n",
    "    geom=[data['geometry']]\n",
    "    scaled=[]\n",
    "    with rasterio.open(img) as src:\n",
    "             out_image,out_transform = rasterio.mask.mask(src, geom,all_touched=True, nodata=0.0,crop=True)\n",
    "    raster_array=out_image[0]\n",
    "    max=raster_array.max()\n",
    "    min=raster_array.min()\n",
    "    a=max-min\n",
    "    for row in range (len(raster_array)):\n",
    "        for col in range(len(raster_array[0])):\n",
    "            i=raster_array[row][col]\n",
    "            y=(i-min)*63.00/a\n",
    "            scaled.append(y)\n",
    "    scaled= scaled+min\n",
    "    return [scaled.max(),scaled.min()]"
   ]
  },
  {
   "cell_type": "code",
   "execution_count": 37,
   "metadata": {},
   "outputs": [],
   "source": [
    "for img in files:\n",
    "    with open('scaleviirs.csv','w', newline='') as f:\n",
    "            thewriter=csv.writer(f)\n",
    "            thewriter.writerow([img[54:58],scale_f(img)])"
   ]
  },
  {
   "cell_type": "code",
   "execution_count": 3,
   "metadata": {},
   "outputs": [],
   "source": [
    "data = pd.io.stata.read_stata('VIIRS_lights_monthly_2012_2017_DistrictLevel_IND_share_new.dta')\n",
    "data.to_csv('my_stata_file.csv')"
   ]
  },
  {
   "cell_type": "code",
   "execution_count": 4,
   "metadata": {},
   "outputs": [],
   "source": [
    "df=pd.read_csv('my_stata_file.csv')"
   ]
  },
  {
   "cell_type": "code",
   "execution_count": 11,
   "metadata": {},
   "outputs": [
    {
     "data": {
      "text/html": [
       "<div>\n",
       "<style scoped>\n",
       "    .dataframe tbody tr th:only-of-type {\n",
       "        vertical-align: middle;\n",
       "    }\n",
       "\n",
       "    .dataframe tbody tr th {\n",
       "        vertical-align: top;\n",
       "    }\n",
       "\n",
       "    .dataframe thead th {\n",
       "        text-align: right;\n",
       "    }\n",
       "</style>\n",
       "<table border=\"1\" class=\"dataframe\">\n",
       "  <thead>\n",
       "    <tr style=\"text-align: right;\">\n",
       "      <th></th>\n",
       "      <th>Unnamed: 0</th>\n",
       "      <th>iso_codes</th>\n",
       "      <th>State_code</th>\n",
       "      <th>State_name</th>\n",
       "      <th>dist_code</th>\n",
       "      <th>dist_name</th>\n",
       "      <th>id_dist</th>\n",
       "      <th>satellite</th>\n",
       "      <th>year</th>\n",
       "      <th>month</th>\n",
       "      <th>ntl_s_n_15</th>\n",
       "      <th>ntl_s_n_15_a</th>\n",
       "      <th>ntl_s_n_cl</th>\n",
       "      <th>ntl_s_n_cl_a</th>\n",
       "      <th>ntl_s_n</th>\n",
       "      <th>ntl_s_n_a</th>\n",
       "    </tr>\n",
       "  </thead>\n",
       "  <tbody>\n",
       "    <tr>\n",
       "      <td>0</td>\n",
       "      <td>0</td>\n",
       "      <td>IND</td>\n",
       "      <td>29</td>\n",
       "      <td>Rajasthan</td>\n",
       "      <td>100</td>\n",
       "      <td>Hanumangarh</td>\n",
       "      <td>IND_100_Hanumangarh</td>\n",
       "      <td>VIIRS</td>\n",
       "      <td>2012</td>\n",
       "      <td>4</td>\n",
       "      <td>8049.662686</td>\n",
       "      <td>0.885993</td>\n",
       "      <td>4508.232396</td>\n",
       "      <td>0.496202</td>\n",
       "      <td>13974.098328</td>\n",
       "      <td>1.538071</td>\n",
       "    </tr>\n",
       "    <tr>\n",
       "      <td>1</td>\n",
       "      <td>1</td>\n",
       "      <td>IND</td>\n",
       "      <td>29</td>\n",
       "      <td>Rajasthan</td>\n",
       "      <td>100</td>\n",
       "      <td>Hanumangarh</td>\n",
       "      <td>IND_100_Hanumangarh</td>\n",
       "      <td>VIIRS</td>\n",
       "      <td>2012</td>\n",
       "      <td>5</td>\n",
       "      <td>6297.908587</td>\n",
       "      <td>0.693185</td>\n",
       "      <td>3236.822480</td>\n",
       "      <td>0.356264</td>\n",
       "      <td>13316.283226</td>\n",
       "      <td>1.465668</td>\n",
       "    </tr>\n",
       "    <tr>\n",
       "      <td>2</td>\n",
       "      <td>2</td>\n",
       "      <td>IND</td>\n",
       "      <td>29</td>\n",
       "      <td>Rajasthan</td>\n",
       "      <td>100</td>\n",
       "      <td>Hanumangarh</td>\n",
       "      <td>IND_100_Hanumangarh</td>\n",
       "      <td>VIIRS</td>\n",
       "      <td>2012</td>\n",
       "      <td>6</td>\n",
       "      <td>4821.129583</td>\n",
       "      <td>0.530642</td>\n",
       "      <td>2569.407327</td>\n",
       "      <td>0.282804</td>\n",
       "      <td>8925.854106</td>\n",
       "      <td>0.982432</td>\n",
       "    </tr>\n",
       "    <tr>\n",
       "      <td>3</td>\n",
       "      <td>3</td>\n",
       "      <td>IND</td>\n",
       "      <td>29</td>\n",
       "      <td>Rajasthan</td>\n",
       "      <td>100</td>\n",
       "      <td>Hanumangarh</td>\n",
       "      <td>IND_100_Hanumangarh</td>\n",
       "      <td>VIIRS</td>\n",
       "      <td>2012</td>\n",
       "      <td>7</td>\n",
       "      <td>4849.716122</td>\n",
       "      <td>0.533788</td>\n",
       "      <td>2160.941451</td>\n",
       "      <td>0.237846</td>\n",
       "      <td>13373.572496</td>\n",
       "      <td>1.471974</td>\n",
       "    </tr>\n",
       "    <tr>\n",
       "      <td>4</td>\n",
       "      <td>4</td>\n",
       "      <td>IND</td>\n",
       "      <td>29</td>\n",
       "      <td>Rajasthan</td>\n",
       "      <td>100</td>\n",
       "      <td>Hanumangarh</td>\n",
       "      <td>IND_100_Hanumangarh</td>\n",
       "      <td>VIIRS</td>\n",
       "      <td>2012</td>\n",
       "      <td>8</td>\n",
       "      <td>6295.194182</td>\n",
       "      <td>0.692886</td>\n",
       "      <td>2914.990292</td>\n",
       "      <td>0.320841</td>\n",
       "      <td>14711.158886</td>\n",
       "      <td>1.619196</td>\n",
       "    </tr>\n",
       "  </tbody>\n",
       "</table>\n",
       "</div>"
      ],
      "text/plain": [
       "   Unnamed: 0 iso_codes  State_code State_name  dist_code    dist_name  \\\n",
       "0           0       IND          29  Rajasthan        100  Hanumangarh   \n",
       "1           1       IND          29  Rajasthan        100  Hanumangarh   \n",
       "2           2       IND          29  Rajasthan        100  Hanumangarh   \n",
       "3           3       IND          29  Rajasthan        100  Hanumangarh   \n",
       "4           4       IND          29  Rajasthan        100  Hanumangarh   \n",
       "\n",
       "               id_dist satellite  year  month   ntl_s_n_15  ntl_s_n_15_a  \\\n",
       "0  IND_100_Hanumangarh     VIIRS  2012      4  8049.662686      0.885993   \n",
       "1  IND_100_Hanumangarh     VIIRS  2012      5  6297.908587      0.693185   \n",
       "2  IND_100_Hanumangarh     VIIRS  2012      6  4821.129583      0.530642   \n",
       "3  IND_100_Hanumangarh     VIIRS  2012      7  4849.716122      0.533788   \n",
       "4  IND_100_Hanumangarh     VIIRS  2012      8  6295.194182      0.692886   \n",
       "\n",
       "    ntl_s_n_cl  ntl_s_n_cl_a       ntl_s_n  ntl_s_n_a  \n",
       "0  4508.232396      0.496202  13974.098328   1.538071  \n",
       "1  3236.822480      0.356264  13316.283226   1.465668  \n",
       "2  2569.407327      0.282804   8925.854106   0.982432  \n",
       "3  2160.941451      0.237846  13373.572496   1.471974  \n",
       "4  2914.990292      0.320841  14711.158886   1.619196  "
      ]
     },
     "execution_count": 11,
     "metadata": {},
     "output_type": "execute_result"
    }
   ],
   "source": [
    "df[df['State_code']==29].head()"
   ]
  },
  {
   "cell_type": "code",
   "execution_count": 48,
   "metadata": {},
   "outputs": [],
   "source": [
    "t='/media/data6TB/Projects/2020Viirs/dataset/VIIRS-Tile3/2012'"
   ]
  },
  {
   "cell_type": "code",
   "execution_count": 52,
   "metadata": {},
   "outputs": [
    {
     "data": {
      "text/plain": [
       "'2012'"
      ]
     },
     "execution_count": 52,
     "metadata": {},
     "output_type": "execute_result"
    }
   ],
   "source": [
    "t[54:58]"
   ]
  },
  {
   "cell_type": "code",
   "execution_count": null,
   "metadata": {},
   "outputs": [],
   "source": []
  }
 ],
 "metadata": {
  "kernelspec": {
   "display_name": "Python 3",
   "language": "python",
   "name": "python3"
  },
  "language_info": {
   "codemirror_mode": {
    "name": "ipython",
    "version": 3
   },
   "file_extension": ".py",
   "mimetype": "text/x-python",
   "name": "python",
   "nbconvert_exporter": "python",
   "pygments_lexer": "ipython3",
   "version": "3.7.6"
  }
 },
 "nbformat": 4,
 "nbformat_minor": 2
}
