{
 "cells": [
  {
   "cell_type": "code",
   "execution_count": 1,
   "metadata": {},
   "outputs": [],
   "source": [
    "import os\n",
    "import json\n",
    "import rasterio\n",
    "import numpy as np\n",
    "from matplotlib import pyplot as plt\n",
    "import csv\n",
    "import rasterio.mask\n",
    "import pandas as pd"
   ]
  },
  {
   "cell_type": "code",
   "execution_count": 2,
   "metadata": {},
   "outputs": [],
   "source": [
    "import os\n",
    "path = '../dataset/dmsp/stable/'\n",
    "\n",
    "imagefiles = []\n",
    "# r=root, d=directories, f = files\n",
    "for r, d, f in os.walk(path):\n",
    "    for file in f:\n",
    "        if 'web.stable_lights.avg_vis.tif' in file:\n",
    "            imagefiles.append(os.path.join(r, file))"
   ]
  },
  {
   "cell_type": "code",
   "execution_count": 3,
   "metadata": {},
   "outputs": [
    {
     "name": "stdout",
     "output_type": "stream",
     "text": [
      "json/india.json\n",
      "json/korea.json\n",
      "json/states.json\n",
      "json/usa.json\n",
      "json/brazil.json\n",
      "json/canada.json\n",
      "json/china.json\n",
      "json/france.json\n",
      "json/germany.json\n",
      "json/indonesia.json\n",
      "json/iran.json\n",
      "json/italy.json\n",
      "json/japan.json\n",
      "json/mexico.json\n",
      "json/russia.json\n",
      "json/saudiarab.json\n",
      "json/spain.json\n",
      "json/turkey.json\n",
      "json/uk.json\n"
     ]
    }
   ],
   "source": [
    "path = 'json/'\n",
    "\n",
    "files = []\n",
    "# r=root, d=directories, f = files\n",
    "for r, d, f in os.walk(path):\n",
    "    for file in f:\n",
    "            files.append(os.path.join(r, file))\n",
    "for f in files:\n",
    "    print(f)\n",
    "    data=json.load(open(f))"
   ]
  },
  {
   "cell_type": "code",
   "execution_count": 7,
   "metadata": {},
   "outputs": [
    {
     "name": "stdout",
     "output_type": "stream",
     "text": [
      "dmsp/stable/F152001.v4b_web.stable_lights.avg_vi\n",
      "dmsp/stable/F152002.v4b_web.stable_lights.avg_vi\n",
      "dmsp/stable/F152003.v4b_web.stable_lights.avg_vi\n",
      "dmsp/stable/F152004.v4b_web.stable_lights.avg_vi\n",
      "dmsp/stable/F152005.v4b_web.stable_lights.avg_vi\n",
      "dmsp/stable/F152006.v4b_web.stable_lights.avg_vi\n",
      "dmsp/stable/F152007.v4b_web.stable_lights.avg_vi\n",
      "dmsp/stable/F162004.v4b_web.stable_lights.avg_vi\n",
      "dmsp/stable/F162005.v4b_web.stable_lights.avg_vi\n",
      "dmsp/stable/F162006.v4b_web.stable_lights.avg_vi\n",
      "dmsp/stable/F162007.v4b_web.stable_lights.avg_vi\n",
      "dmsp/stable/F162008.v4b_web.stable_lights.avg_vi\n",
      "dmsp/stable/F162009.v4b_web.stable_lights.avg_vi\n",
      "dmsp/stable/F182010.v4d_web.stable_lights.avg_vi\n",
      "dmsp/stable/F182011.v4c_web.stable_lights.avg_vi\n",
      "dmsp/stable/F182012.v4c_web.stable_lights.avg_vi\n",
      "dmsp/stable/F182013.v4c_web.stable_lights.avg_vi\n",
      "dmsp/stable/F101992.v4b_web.stable_lights.avg_vi\n",
      "dmsp/stable/F101993.v4b_web.stable_lights.avg_vi\n",
      "dmsp/stable/F101994.v4b_web.stable_lights.avg_vi\n",
      "dmsp/stable/F121994.v4b_web.stable_lights.avg_vi\n",
      "dmsp/stable/F121995.v4b_web.stable_lights.avg_vi\n",
      "dmsp/stable/F121996.v4b_web.stable_lights.avg_vi\n",
      "dmsp/stable/F121997.v4b_web.stable_lights.avg_vi\n",
      "dmsp/stable/F121998.v4b_web.stable_lights.avg_vi\n",
      "dmsp/stable/F121999.v4b_web.stable_lights.avg_vi\n",
      "dmsp/stable/F141997.v4b_web.stable_lights.avg_vi\n",
      "dmsp/stable/F141998.v4b_web.stable_lights.avg_vi\n",
      "dmsp/stable/F141999.v4b_web.stable_lights.avg_vi\n",
      "dmsp/stable/F142000.v4b_web.stable_lights.avg_vi\n",
      "dmsp/stable/F142001.v4b_web.stable_lights.avg_vi\n",
      "dmsp/stable/F142002.v4b_web.stable_lights.avg_vi\n",
      "dmsp/stable/F142003.v4b_web.stable_lights.avg_vi\n",
      "dmsp/stable/F152000.v4b_web.stable_lights.avg_vi\n"
     ]
    }
   ],
   "source": [
    "for f in imagefiles:\n",
    "    s=f[11:len(f)-5]\n",
    "    print(s)"
   ]
  },
  {
   "cell_type": "code",
   "execution_count": null,
   "metadata": {},
   "outputs": [],
   "source": [
    "data=json.load(open(\"json_files/brazil.json\"))\n",
    "geom=[data['geometry']]\n",
    "\n",
    "with rasterio.open('SVDNB_npp_20190401-20190430_75N060E_vcmcfg_v10_c201905191000.avg_rade9h.tif') as src:\n",
    "        out_image,out_transform = rasterio.mask.mask(src, geom)\n",
    "raster_arrayb=out_image[0]\n",
    "print(raster_arrayb.min())\n",
    "print(raster_arrayb.max())"
   ]
  },
  {
   "cell_type": "code",
   "execution_count": null,
   "metadata": {},
   "outputs": [],
   "source": [
    "data=json.load(open(\"json_files/japan.json\"))\n",
    "geom=[data['geometry']]\n",
    "\n",
    "with rasterio.open('SVDNB_npp_20190401-20190430_75N060E_vcmcfg_v10_c201905191000.avg_rade9h.tif') as src:\n",
    "        out_imageind,out_transform = rasterio.mask.mask(src, geom, all_touched=True)\n",
    "raster_arrayb=out_image[0]\n",
    "print(raster_arrayb.min())\n",
    "print(raster_arrayb.max())   "
   ]
  },
  {
   "cell_type": "code",
   "execution_count": null,
   "metadata": {},
   "outputs": [],
   "source": [
    "def raster_array(geom,img):\n",
    "        sum1=0\n",
    "        sum2=0\n",
    "    \n",
    "        with rasterio.open(img) as src:\n",
    "            out_image,out_transform = rasterio.mask.mask(src, geom, all_touched=True, nodata=0.0,crop=True)\n",
    "        raster_array=out_image[0]   \n",
    "        \n",
    "        \n",
    "        for row in range (len(raster_array)):\n",
    "             for col in range(len(raster_array[0])):\n",
    "                    if(raster_array[row][col]<0.0):\n",
    "                        raster_array[row][col]=0.0\n",
    "                    sum1 = sum1 + raster_array[row][col]\n",
    "                    \n",
    "                    \n",
    "        return (sum1)"
   ]
  },
  {
   "cell_type": "code",
   "execution_count": null,
   "metadata": {},
   "outputs": [],
   "source": [
    "with open('nightlightsdmsp.csv','w', newline='') as f1:\n",
    "    thewriter=csv.writer(f1)\n",
    "    for vf in imagefiles:\n",
    "        for f in files:\n",
    "            data=json.load(open(f))\n",
    "            geom=[data['geometry']]\n",
    "            country= f[11:len(f)-5]\n",
    "            if 'rade9h.tif' in vf:\n",
    "                time= vf[48:54]\n",
    "        \n",
    "            else if 'avg_lights_x_pct.tif' in vf:\n",
    "                time= vf[23:27]\n",
    "                   \n",
    "        \n",
    "            thewriter.writerow([time,country,raster_array(geom,vf)])"
   ]
  },
  {
   "cell_type": "code",
   "execution_count": null,
   "metadata": {},
   "outputs": [],
   "source": [
    "data=json.load(open(\"json_files/mexico.json\"))\n",
    "geom=[data['geometry']]\n",
    "\n",
    "with rasterio.open('F101992.v4b_web.stable_lights.avg_vis.tif') as src:\n",
    "        out_image,out_transform = rasterio.mask.mask(src, geom)\n",
    "raster_arrayb=out_image[0]"
   ]
  },
  {
   "cell_type": "code",
   "execution_count": null,
   "metadata": {},
   "outputs": [],
   "source": [
    "plt.imshow(out_image[0])"
   ]
  },
  {
   "cell_type": "code",
   "execution_count": null,
   "metadata": {},
   "outputs": [],
   "source": [
    "data=json.load(open(\"json_files/usa.json\"))\n",
    "geom=[data['geometry']]\n",
    "\n",
    "with rasterio.open('F101992.v4b_web.stable_lights.avg_vis.tif') as src:\n",
    "        out_image,out_transform = rasterio.mask.mask(src, geom)\n",
    "raster_arrayb=out_image[0]"
   ]
  },
  {
   "cell_type": "code",
   "execution_count": null,
   "metadata": {},
   "outputs": [],
   "source": [
    "plt.imshow(out_image[0])"
   ]
  },
  {
   "cell_type": "code",
   "execution_count": null,
   "metadata": {},
   "outputs": [],
   "source": [
    "data=json.load(open(\"json_files/india.json\"))\n",
    "geom=[data['geometry']]\n",
    "\n",
    "with rasterio.open('F101992.v4b_web.stable_lights.avg_vis.tif') as src:\n",
    "        out_image,out_transform = rasterio.mask.mask(src, geom)\n",
    "raster_arrayb=out_image[0]\n",
    "plt.imshow(out_image[0],vmin=0,vmax=1)"
   ]
  },
  {
   "cell_type": "code",
   "execution_count": null,
   "metadata": {},
   "outputs": [],
   "source": [
    "data=json.load(open(\"json_files/india.json\"))\n",
    "geom=[data['geometry']]\n",
    "\n",
    "with rasterio.open('F182013.v4c_web.stable_lights.avg_vis.tif') as src:\n",
    "        out_image,out_transform = rasterio.mask.mask(src, geom)\n",
    "raster_arrayb=out_image[0]\n",
    "plt.imshow(out_image[0])"
   ]
  },
  {
   "cell_type": "code",
   "execution_count": null,
   "metadata": {},
   "outputs": [],
   "source": [
    "data=json.load(open(\"json_files/india.json\"))\n",
    "geom=[data['geometry']]\n",
    "\n",
    "with rasterio.open('SVDNB_npp_20120401-20120430_75N060E_vcmcfg_v10_c201605121456.avg_rade9h.tif') as src:\n",
    "        out_image,out_transform = rasterio.mask.mask(src, geom)\n",
    "raster_arrayb=out_image[0]\n",
    "plt.imshow(out_image[0],vmin=0,vmax=1)"
   ]
  },
  {
   "cell_type": "code",
   "execution_count": null,
   "metadata": {},
   "outputs": [],
   "source": []
  }
 ],
 "metadata": {
  "kernelspec": {
   "display_name": "Python 3",
   "language": "python",
   "name": "python3"
  },
  "language_info": {
   "codemirror_mode": {
    "name": "ipython",
    "version": 3
   },
   "file_extension": ".py",
   "mimetype": "text/x-python",
   "name": "python",
   "nbconvert_exporter": "python",
   "pygments_lexer": "ipython3",
   "version": "3.7.6"
  }
 },
 "nbformat": 4,
 "nbformat_minor": 2
}
