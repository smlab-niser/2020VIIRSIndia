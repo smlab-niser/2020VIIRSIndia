{
 "cells": [
  {
   "cell_type": "code",
   "execution_count": 1,
   "metadata": {},
   "outputs": [],
   "source": [
    "import csv\n",
    "import pandas as pd\n",
    "from matplotlib import pyplot as plt\n",
    "import numpy as np\n",
    "import math"
   ]
  },
  {
   "cell_type": "code",
   "execution_count": 2,
   "metadata": {},
   "outputs": [],
   "source": [
    "import seaborn as sns"
   ]
  },
  {
   "cell_type": "code",
   "execution_count": 3,
   "metadata": {},
   "outputs": [],
   "source": [
    "from sklearn.linear_model import LinearRegression\n",
    "from sklearn.linear_model import Ridge\n",
    "from sklearn.preprocessing import PolynomialFeatures\n",
    "from sklearn.model_selection import train_test_split\n"
   ]
  },
  {
   "cell_type": "code",
   "execution_count": 4,
   "metadata": {},
   "outputs": [],
   "source": [
    "def poly_reg1(X_F1,y_F1,x,y):\n",
    "    poly = PolynomialFeatures(degree=2)\n",
    "    X_F1_poly = poly.fit_transform(X_F1)\n",
    "\n",
    "    X_train, X_test, y_train, y_test = train_test_split(X_F1_poly, y_F1,\n",
    "                                                       random_state = 0)\n",
    "    linreg = LinearRegression().fit(X_train, y_train)\n",
    "\n",
    "    print('(poly deg 2) linear model coeff (w):\\n{}'\n",
    "         .format(linreg.coef_))\n",
    "    print('(poly deg 2) linear model intercept (b): {:.3f}'\n",
    "         .format(linreg.intercept_))\n",
    "    print('(poly deg 2) R-squared score (training): {:.3f}'\n",
    "         .format(linreg.score(X_train, y_train)))\n",
    "    print('(poly deg 2) R-squared score (test): {:.3f}\\n'\n",
    "         .format(linreg.score(X_test, y_test)))\n",
    "    \n",
    "    plt.scatter(X_F1, y_F1, color='red')\n",
    "    plt.plot(X_F1, linreg.predict(poly.fit_transform(X_F1)), color='blue')\n",
    "    plt.xlabel(x)\n",
    "    plt.ylabel(y)\n",
    "    plt.show()\n",
    "    return([linreg.coef_,linreg.intercept_])\n"
   ]
  },
  {
   "cell_type": "code",
   "execution_count": 20,
   "metadata": {},
   "outputs": [],
   "source": [
    "def poly_reg2(X_F1,y_F1,x,y):\n",
    "    poly = PolynomialFeatures(degree=2)\n",
    "    x=np.asarray(X_F1['lum/pix'])\n",
    "    x=x.reshape(-1,1)\n",
    "\n",
    "    X_F1_poly = poly.fit_transform(x)\n",
    "\n",
    "\n",
    "    X_train, X_test, y_train, y_test = train_test_split(X_F1_poly, y_F1,\n",
    "                                                       random_state = 0)\n",
    "    \n",
    "    linreg = LinearRegression().fit(X_train,\n",
    "                                    y_train)\n",
    "\n",
    "    print('(poly deg 2) linear model coeff (w):\\n{}'\n",
    "         .format(linreg.coef_))\n",
    "    print('(poly deg 2) linear model intercept (b): {:.3f}'\n",
    "         .format(linreg.intercept_))\n",
    "    print('(poly deg 2) R-squared score (training): {:.3f}'\n",
    "         .format(linreg.score(X_train, y_train)))\n",
    "    print('(poly deg 2) R-squared score (test): {:.3f}\\n'\n",
    "         .format(linreg.score(X_test, y_test)))\n",
    "    \n",
    "    plt.scatter(X_F1, y_F1, color='red')\n",
    "    plt.plot(X_F1, linreg.predict(poly.fit_transform(X_F1)), color='blue')\n",
    "    plt.xlabel(x)\n",
    "    plt.ylabel(y)\n",
    "    plt.show()\n",
    "    return([linreg.coef_,linreg.intercept_])\n"
   ]
  },
  {
   "cell_type": "code",
   "execution_count": 14,
   "metadata": {},
   "outputs": [],
   "source": [
    "gdpppp=pd.read_csv('important/done/newppp_data.csv')"
   ]
  },
  {
   "cell_type": "code",
   "execution_count": 15,
   "metadata": {},
   "outputs": [],
   "source": [
    "gdpppp.drop(gdpppp.loc[gdpppp['year']==1992.0].index,inplace=True)"
   ]
  },
  {
   "cell_type": "code",
   "execution_count": 16,
   "metadata": {},
   "outputs": [],
   "source": [
    "gdpppp.sort_values(['lum/pix'],axis=0,ascending=True,inplace=True)"
   ]
  },
  {
   "cell_type": "code",
   "execution_count": 17,
   "metadata": {},
   "outputs": [
    {
     "data": {
      "text/html": [
       "<div>\n",
       "<style scoped>\n",
       "    .dataframe tbody tr th:only-of-type {\n",
       "        vertical-align: middle;\n",
       "    }\n",
       "\n",
       "    .dataframe tbody tr th {\n",
       "        vertical-align: top;\n",
       "    }\n",
       "\n",
       "    .dataframe thead th {\n",
       "        text-align: right;\n",
       "    }\n",
       "</style>\n",
       "<table border=\"1\" class=\"dataframe\">\n",
       "  <thead>\n",
       "    <tr style=\"text-align: right;\">\n",
       "      <th></th>\n",
       "      <th>country</th>\n",
       "      <th>year</th>\n",
       "      <th>pixels</th>\n",
       "      <th>luminosity</th>\n",
       "      <th>lum/pix</th>\n",
       "      <th>population</th>\n",
       "      <th>PPPGDP</th>\n",
       "    </tr>\n",
       "  </thead>\n",
       "  <tbody>\n",
       "    <tr>\n",
       "      <td>260</td>\n",
       "      <td>Korea</td>\n",
       "      <td>2009.0</td>\n",
       "      <td>500337.0</td>\n",
       "      <td>3.786700e+04</td>\n",
       "      <td>0.075683</td>\n",
       "      <td>24428341</td>\n",
       "      <td>1.460000e+12</td>\n",
       "    </tr>\n",
       "    <tr>\n",
       "      <td>244</td>\n",
       "      <td>Korea</td>\n",
       "      <td>1993.0</td>\n",
       "      <td>500337.0</td>\n",
       "      <td>4.171500e+04</td>\n",
       "      <td>0.083374</td>\n",
       "      <td>21265834</td>\n",
       "      <td>4.890000e+11</td>\n",
       "    </tr>\n",
       "    <tr>\n",
       "      <td>259</td>\n",
       "      <td>Korea</td>\n",
       "      <td>2008.0</td>\n",
       "      <td>500337.0</td>\n",
       "      <td>4.317000e+04</td>\n",
       "      <td>0.086282</td>\n",
       "      <td>24310142</td>\n",
       "      <td>1.470000e+12</td>\n",
       "    </tr>\n",
       "    <tr>\n",
       "      <td>323</td>\n",
       "      <td>Russia</td>\n",
       "      <td>2018.0</td>\n",
       "      <td>468000000.0</td>\n",
       "      <td>3.712375e+07</td>\n",
       "      <td>0.097493</td>\n",
       "      <td>144477860</td>\n",
       "      <td>4.220000e+12</td>\n",
       "    </tr>\n",
       "    <tr>\n",
       "      <td>247</td>\n",
       "      <td>Korea</td>\n",
       "      <td>1996.0</td>\n",
       "      <td>500337.0</td>\n",
       "      <td>5.662500e+04</td>\n",
       "      <td>0.113174</td>\n",
       "      <td>22113438</td>\n",
       "      <td>6.700000e+11</td>\n",
       "    </tr>\n",
       "    <tr>\n",
       "      <td>...</td>\n",
       "      <td>...</td>\n",
       "      <td>...</td>\n",
       "      <td>...</td>\n",
       "      <td>...</td>\n",
       "      <td>...</td>\n",
       "      <td>...</td>\n",
       "      <td>...</td>\n",
       "    </tr>\n",
       "    <tr>\n",
       "      <td>117</td>\n",
       "      <td>Germany</td>\n",
       "      <td>2001.0</td>\n",
       "      <td>1000532.0</td>\n",
       "      <td>1.593067e+07</td>\n",
       "      <td>15.922199</td>\n",
       "      <td>82349925</td>\n",
       "      <td>2.340000e+12</td>\n",
       "    </tr>\n",
       "    <tr>\n",
       "      <td>116</td>\n",
       "      <td>Germany</td>\n",
       "      <td>2000.0</td>\n",
       "      <td>1000532.0</td>\n",
       "      <td>1.598375e+07</td>\n",
       "      <td>15.975254</td>\n",
       "      <td>82211508</td>\n",
       "      <td>2.240000e+12</td>\n",
       "    </tr>\n",
       "    <tr>\n",
       "      <td>115</td>\n",
       "      <td>Germany</td>\n",
       "      <td>1999.0</td>\n",
       "      <td>1000532.0</td>\n",
       "      <td>1.672153e+07</td>\n",
       "      <td>16.712642</td>\n",
       "      <td>82100243</td>\n",
       "      <td>2.160000e+12</td>\n",
       "    </tr>\n",
       "    <tr>\n",
       "      <td>118</td>\n",
       "      <td>Germany</td>\n",
       "      <td>2002.0</td>\n",
       "      <td>1000532.0</td>\n",
       "      <td>1.678682e+07</td>\n",
       "      <td>16.777896</td>\n",
       "      <td>82488495</td>\n",
       "      <td>2.410000e+12</td>\n",
       "    </tr>\n",
       "    <tr>\n",
       "      <td>114</td>\n",
       "      <td>Germany</td>\n",
       "      <td>1998.0</td>\n",
       "      <td>1000532.0</td>\n",
       "      <td>1.712182e+07</td>\n",
       "      <td>17.112713</td>\n",
       "      <td>82047195</td>\n",
       "      <td>2.080000e+12</td>\n",
       "    </tr>\n",
       "  </tbody>\n",
       "</table>\n",
       "<p>442 rows × 7 columns</p>\n",
       "</div>"
      ],
      "text/plain": [
       "     country    year       pixels    luminosity    lum/pix  population  \\\n",
       "260    Korea  2009.0     500337.0  3.786700e+04   0.075683    24428341   \n",
       "244    Korea  1993.0     500337.0  4.171500e+04   0.083374    21265834   \n",
       "259    Korea  2008.0     500337.0  4.317000e+04   0.086282    24310142   \n",
       "323   Russia  2018.0  468000000.0  3.712375e+07   0.097493   144477860   \n",
       "247    Korea  1996.0     500337.0  5.662500e+04   0.113174    22113438   \n",
       "..       ...     ...          ...           ...        ...         ...   \n",
       "117  Germany  2001.0    1000532.0  1.593067e+07  15.922199    82349925   \n",
       "116  Germany  2000.0    1000532.0  1.598375e+07  15.975254    82211508   \n",
       "115  Germany  1999.0    1000532.0  1.672153e+07  16.712642    82100243   \n",
       "118  Germany  2002.0    1000532.0  1.678682e+07  16.777896    82488495   \n",
       "114  Germany  1998.0    1000532.0  1.712182e+07  17.112713    82047195   \n",
       "\n",
       "           PPPGDP  \n",
       "260  1.460000e+12  \n",
       "244  4.890000e+11  \n",
       "259  1.470000e+12  \n",
       "323  4.220000e+12  \n",
       "247  6.700000e+11  \n",
       "..            ...  \n",
       "117  2.340000e+12  \n",
       "116  2.240000e+12  \n",
       "115  2.160000e+12  \n",
       "118  2.410000e+12  \n",
       "114  2.080000e+12  \n",
       "\n",
       "[442 rows x 7 columns]"
      ]
     },
     "execution_count": 17,
     "metadata": {},
     "output_type": "execute_result"
    }
   ],
   "source": [
    "gdpppp"
   ]
  },
  {
   "cell_type": "code",
   "execution_count": 18,
   "metadata": {},
   "outputs": [],
   "source": [
    "gdp_pop=gdpppp[['lum/pix','population']]"
   ]
  },
  {
   "cell_type": "code",
   "execution_count": 22,
   "metadata": {},
   "outputs": [
    {
     "name": "stdout",
     "output_type": "stream",
     "text": [
      "(poly deg 2) linear model coeff (w):\n",
      "[ 0.00000000e+00 -2.03467143e+11  3.44203505e+09]\n",
      "(poly deg 2) linear model intercept (b): 3841204481459.730\n",
      "(poly deg 2) R-squared score (training): 0.021\n",
      "(poly deg 2) R-squared score (test): -0.083\n",
      "\n"
     ]
    },
    {
     "ename": "ValueError",
     "evalue": "x and y must be the same size",
     "output_type": "error",
     "traceback": [
      "\u001b[1;31m---------------------------------------------------------------------------\u001b[0m",
      "\u001b[1;31mValueError\u001b[0m                                Traceback (most recent call last)",
      "\u001b[1;32m<ipython-input-22-77cc2646b14c>\u001b[0m in \u001b[0;36m<module>\u001b[1;34m\u001b[0m\n\u001b[1;32m----> 1\u001b[1;33m \u001b[0mpoly_reg2\u001b[0m\u001b[1;33m(\u001b[0m\u001b[0mgdp_pop\u001b[0m\u001b[1;33m,\u001b[0m\u001b[0mgdpppp\u001b[0m\u001b[1;33m[\u001b[0m\u001b[1;34m'PPPGDP'\u001b[0m\u001b[1;33m]\u001b[0m\u001b[1;33m,\u001b[0m\u001b[1;34m'population_luminosity'\u001b[0m\u001b[1;33m,\u001b[0m\u001b[1;34m'gdp'\u001b[0m\u001b[1;33m)\u001b[0m\u001b[1;33m\u001b[0m\u001b[1;33m\u001b[0m\u001b[0m\n\u001b[0m",
      "\u001b[1;32m<ipython-input-20-cb86a3e03785>\u001b[0m in \u001b[0;36mpoly_reg2\u001b[1;34m(X_F1, y_F1, x, y)\u001b[0m\n\u001b[0;32m     22\u001b[0m          .format(linreg.score(X_test, y_test)))\n\u001b[0;32m     23\u001b[0m \u001b[1;33m\u001b[0m\u001b[0m\n\u001b[1;32m---> 24\u001b[1;33m     \u001b[0mplt\u001b[0m\u001b[1;33m.\u001b[0m\u001b[0mscatter\u001b[0m\u001b[1;33m(\u001b[0m\u001b[0mX_F1\u001b[0m\u001b[1;33m,\u001b[0m \u001b[0my_F1\u001b[0m\u001b[1;33m,\u001b[0m \u001b[0mcolor\u001b[0m\u001b[1;33m=\u001b[0m\u001b[1;34m'red'\u001b[0m\u001b[1;33m)\u001b[0m\u001b[1;33m\u001b[0m\u001b[1;33m\u001b[0m\u001b[0m\n\u001b[0m\u001b[0;32m     25\u001b[0m     \u001b[0mplt\u001b[0m\u001b[1;33m.\u001b[0m\u001b[0mplot\u001b[0m\u001b[1;33m(\u001b[0m\u001b[0mX_F1\u001b[0m\u001b[1;33m,\u001b[0m \u001b[0mlinreg\u001b[0m\u001b[1;33m.\u001b[0m\u001b[0mpredict\u001b[0m\u001b[1;33m(\u001b[0m\u001b[0mpoly\u001b[0m\u001b[1;33m.\u001b[0m\u001b[0mfit_transform\u001b[0m\u001b[1;33m(\u001b[0m\u001b[0mX_F1\u001b[0m\u001b[1;33m)\u001b[0m\u001b[1;33m)\u001b[0m\u001b[1;33m,\u001b[0m \u001b[0mcolor\u001b[0m\u001b[1;33m=\u001b[0m\u001b[1;34m'blue'\u001b[0m\u001b[1;33m)\u001b[0m\u001b[1;33m\u001b[0m\u001b[1;33m\u001b[0m\u001b[0m\n\u001b[0;32m     26\u001b[0m     \u001b[0mplt\u001b[0m\u001b[1;33m.\u001b[0m\u001b[0mxlabel\u001b[0m\u001b[1;33m(\u001b[0m\u001b[0mx\u001b[0m\u001b[1;33m)\u001b[0m\u001b[1;33m\u001b[0m\u001b[1;33m\u001b[0m\u001b[0m\n",
      "\u001b[1;32mC:\\Users\\Public\\anaconda\\lib\\site-packages\\matplotlib\\pyplot.py\u001b[0m in \u001b[0;36mscatter\u001b[1;34m(x, y, s, c, marker, cmap, norm, vmin, vmax, alpha, linewidths, verts, edgecolors, plotnonfinite, data, **kwargs)\u001b[0m\n\u001b[0;32m   2845\u001b[0m         \u001b[0mverts\u001b[0m\u001b[1;33m=\u001b[0m\u001b[0mverts\u001b[0m\u001b[1;33m,\u001b[0m \u001b[0medgecolors\u001b[0m\u001b[1;33m=\u001b[0m\u001b[0medgecolors\u001b[0m\u001b[1;33m,\u001b[0m\u001b[1;33m\u001b[0m\u001b[1;33m\u001b[0m\u001b[0m\n\u001b[0;32m   2846\u001b[0m         plotnonfinite=plotnonfinite, **({\"data\": data} if data is not\n\u001b[1;32m-> 2847\u001b[1;33m         None else {}), **kwargs)\n\u001b[0m\u001b[0;32m   2848\u001b[0m     \u001b[0msci\u001b[0m\u001b[1;33m(\u001b[0m\u001b[0m__ret\u001b[0m\u001b[1;33m)\u001b[0m\u001b[1;33m\u001b[0m\u001b[1;33m\u001b[0m\u001b[0m\n\u001b[0;32m   2849\u001b[0m     \u001b[1;32mreturn\u001b[0m \u001b[0m__ret\u001b[0m\u001b[1;33m\u001b[0m\u001b[1;33m\u001b[0m\u001b[0m\n",
      "\u001b[1;32mC:\\Users\\Public\\anaconda\\lib\\site-packages\\matplotlib\\__init__.py\u001b[0m in \u001b[0;36minner\u001b[1;34m(ax, data, *args, **kwargs)\u001b[0m\n\u001b[0;32m   1599\u001b[0m     \u001b[1;32mdef\u001b[0m \u001b[0minner\u001b[0m\u001b[1;33m(\u001b[0m\u001b[0max\u001b[0m\u001b[1;33m,\u001b[0m \u001b[1;33m*\u001b[0m\u001b[0margs\u001b[0m\u001b[1;33m,\u001b[0m \u001b[0mdata\u001b[0m\u001b[1;33m=\u001b[0m\u001b[1;32mNone\u001b[0m\u001b[1;33m,\u001b[0m \u001b[1;33m**\u001b[0m\u001b[0mkwargs\u001b[0m\u001b[1;33m)\u001b[0m\u001b[1;33m:\u001b[0m\u001b[1;33m\u001b[0m\u001b[1;33m\u001b[0m\u001b[0m\n\u001b[0;32m   1600\u001b[0m         \u001b[1;32mif\u001b[0m \u001b[0mdata\u001b[0m \u001b[1;32mis\u001b[0m \u001b[1;32mNone\u001b[0m\u001b[1;33m:\u001b[0m\u001b[1;33m\u001b[0m\u001b[1;33m\u001b[0m\u001b[0m\n\u001b[1;32m-> 1601\u001b[1;33m             \u001b[1;32mreturn\u001b[0m \u001b[0mfunc\u001b[0m\u001b[1;33m(\u001b[0m\u001b[0max\u001b[0m\u001b[1;33m,\u001b[0m \u001b[1;33m*\u001b[0m\u001b[0mmap\u001b[0m\u001b[1;33m(\u001b[0m\u001b[0msanitize_sequence\u001b[0m\u001b[1;33m,\u001b[0m \u001b[0margs\u001b[0m\u001b[1;33m)\u001b[0m\u001b[1;33m,\u001b[0m \u001b[1;33m**\u001b[0m\u001b[0mkwargs\u001b[0m\u001b[1;33m)\u001b[0m\u001b[1;33m\u001b[0m\u001b[1;33m\u001b[0m\u001b[0m\n\u001b[0m\u001b[0;32m   1602\u001b[0m \u001b[1;33m\u001b[0m\u001b[0m\n\u001b[0;32m   1603\u001b[0m         \u001b[0mbound\u001b[0m \u001b[1;33m=\u001b[0m \u001b[0mnew_sig\u001b[0m\u001b[1;33m.\u001b[0m\u001b[0mbind\u001b[0m\u001b[1;33m(\u001b[0m\u001b[0max\u001b[0m\u001b[1;33m,\u001b[0m \u001b[1;33m*\u001b[0m\u001b[0margs\u001b[0m\u001b[1;33m,\u001b[0m \u001b[1;33m**\u001b[0m\u001b[0mkwargs\u001b[0m\u001b[1;33m)\u001b[0m\u001b[1;33m\u001b[0m\u001b[1;33m\u001b[0m\u001b[0m\n",
      "\u001b[1;32mC:\\Users\\Public\\anaconda\\lib\\site-packages\\matplotlib\\axes\\_axes.py\u001b[0m in \u001b[0;36mscatter\u001b[1;34m(self, x, y, s, c, marker, cmap, norm, vmin, vmax, alpha, linewidths, verts, edgecolors, plotnonfinite, **kwargs)\u001b[0m\n\u001b[0;32m   4442\u001b[0m         \u001b[0my\u001b[0m \u001b[1;33m=\u001b[0m \u001b[0mnp\u001b[0m\u001b[1;33m.\u001b[0m\u001b[0mma\u001b[0m\u001b[1;33m.\u001b[0m\u001b[0mravel\u001b[0m\u001b[1;33m(\u001b[0m\u001b[0my\u001b[0m\u001b[1;33m)\u001b[0m\u001b[1;33m\u001b[0m\u001b[1;33m\u001b[0m\u001b[0m\n\u001b[0;32m   4443\u001b[0m         \u001b[1;32mif\u001b[0m \u001b[0mx\u001b[0m\u001b[1;33m.\u001b[0m\u001b[0msize\u001b[0m \u001b[1;33m!=\u001b[0m \u001b[0my\u001b[0m\u001b[1;33m.\u001b[0m\u001b[0msize\u001b[0m\u001b[1;33m:\u001b[0m\u001b[1;33m\u001b[0m\u001b[1;33m\u001b[0m\u001b[0m\n\u001b[1;32m-> 4444\u001b[1;33m             \u001b[1;32mraise\u001b[0m \u001b[0mValueError\u001b[0m\u001b[1;33m(\u001b[0m\u001b[1;34m\"x and y must be the same size\"\u001b[0m\u001b[1;33m)\u001b[0m\u001b[1;33m\u001b[0m\u001b[1;33m\u001b[0m\u001b[0m\n\u001b[0m\u001b[0;32m   4445\u001b[0m \u001b[1;33m\u001b[0m\u001b[0m\n\u001b[0;32m   4446\u001b[0m         \u001b[1;32mif\u001b[0m \u001b[0ms\u001b[0m \u001b[1;32mis\u001b[0m \u001b[1;32mNone\u001b[0m\u001b[1;33m:\u001b[0m\u001b[1;33m\u001b[0m\u001b[1;33m\u001b[0m\u001b[0m\n",
      "\u001b[1;31mValueError\u001b[0m: x and y must be the same size"
     ]
    },
    {
     "data": {
      "image/png": "[encoded data removed]",
      "text/plain": [
       "<Figure size 432x288 with 1 Axes>"
      ]
     },
     "metadata": {
      "needs_background": "light"
     },
     "output_type": "display_data"
    }
   ],
   "source": [
    "poly_reg2(gdp_pop,gdpppp['PPPGDP'],'population_luminosity','gdp')"
   ]
  },
  {
   "cell_type": "code",
   "execution_count": null,
   "metadata": {},
   "outputs": [],
   "source": [
    "ax=sns.lmplot(x='luminosity',y='gdplog',data=gdpconsdf,order=2,scatter_kws={\"s\": 80})"
   ]
  },
  {
   "cell_type": "code",
   "execution_count": null,
   "metadata": {},
   "outputs": [],
   "source": []
  }
 ],
 "metadata": {
  "kernelspec": {
   "display_name": "Python 3",
   "language": "python",
   "name": "python3"
  },
  "language_info": {
   "codemirror_mode": {
    "name": "ipython",
    "version": 3
   },
   "file_extension": ".py",
   "mimetype": "text/x-python",
   "name": "python",
   "nbconvert_exporter": "python",
   "pygments_lexer": "ipython3",
   "version": "3.7.4"
  }
 },
 "nbformat": 4,
 "nbformat_minor": 2
}
