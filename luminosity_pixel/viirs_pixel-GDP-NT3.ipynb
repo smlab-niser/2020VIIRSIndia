{
 "cells": [
  {
   "cell_type": "code",
   "execution_count": 1,
   "metadata": {},
   "outputs": [],
   "source": [
    "import os\n",
    "import json\n",
    "import rasterio\n",
    "import numpy as np\n",
    "from matplotlib import pyplot as plt\n",
    "import csv\n",
    "import rasterio.mask\n",
    "import pandas as pd"
   ]
  },
  {
   "cell_type": "code",
   "execution_count": 2,
   "metadata": {},
   "outputs": [],
   "source": [
    "import os\n",
    "path = '../../dataset/VIIRS-TileN3/'\n",
    "\n",
    "imagefiles = []\n",
    "# r=root, d=directories, f = files\n",
    "for r, d, f in os.walk(path):\n",
    "    for file in f:\n",
    "        if 'rade9h.tif' in file:\n",
    "            imagefiles.append(os.path.join(r, file))\n"
   ]
  },
  {
   "cell_type": "code",
   "execution_count": 3,
   "metadata": {},
   "outputs": [],
   "source": [
    "path = '../json/countries_gdpgrowth'\n",
    "\n",
    "files = []\n",
    "# r=root, d=directories, f = files\n",
    "for r, d, f in os.walk(path):\n",
    "    for file in f:\n",
    "            files.append(os.path.join(r, file))\n"
   ]
  },
  {
   "cell_type": "code",
   "execution_count": 4,
   "metadata": {},
   "outputs": [],
   "source": [
    "def raster_array(geom,img):\n",
    "    sum1=0\n",
    "    sum2=0\n",
    "    count=0\n",
    "    with rasterio.open(img) as src:\n",
    "        out_image,out_transform = rasterio.mask.mask(src, geom)\n",
    "    raster_array=out_image[0]\n",
    "    \n",
    "    if(raster_array.max() != raster_array.min()):\n",
    "    \n",
    "        with rasterio.open(img) as src:\n",
    "            out_image,out_transform = rasterio.mask.mask(src, geom, all_touched=True, nodata=0.0,crop=True)\n",
    "        raster_array=out_image[0]\n",
    "        \n",
    "        max=raster_array.max()\n",
    "        min=raster_array.min()\n",
    "        a=max-min\n",
    "        scaled=[]\n",
    "        \n",
    "        for row in range (len(raster_array)):\n",
    "             for col in range(len(raster_array[0])):\n",
    "                    count=count+1\n",
    "                    if(raster_array[row][col]<0.0):\n",
    "                        raster_array[row][col]=0.0\n",
    "                    i=raster_array[row][col]\n",
    "                    sum1 = sum1 + i\n",
    "                    sum2= sum2 + ((i)*63.00/max)\n",
    "                    \n",
    "    return ([count,sum1,sum2])\n"
   ]
  },
  {
   "cell_type": "code",
   "execution_count": null,
   "metadata": {},
   "outputs": [
    {
     "name": "stderr",
     "output_type": "stream",
     "text": [
      "/opt/anaconda3/lib/python3.7/site-packages/rasterio/mask.py:92: UserWarning: shapes are outside bounds of raster. Are they in different coordinate reference systems?\n",
      "  warnings.warn('shapes are outside bounds of raster. '\n"
     ]
    }
   ],
   "source": [
    "with open('nightlightsGDP_pixel_TileN3.csv','w', newline='') as f1:\n",
    "    thewriter=csv.writer(f1)\n",
    "    for vf in imagefiles:\n",
    "        for f in files:\n",
    "            data=json.load(open(f))\n",
    "            geom=[data['geometry']]\n",
    "                   \n",
    "            thewriter.writerow(vf)\n",
    "            thewriter.writerow([vf,f,raster_array(geom,vf)])\n"
   ]
  },
  {
   "cell_type": "code",
   "execution_count": null,
   "metadata": {},
   "outputs": [],
   "source": []
  }
 ],
 "metadata": {
  "kernelspec": {
   "display_name": "Python 3",
   "language": "python",
   "name": "python3"
  },
  "language_info": {
   "codemirror_mode": {
    "name": "ipython",
    "version": 3
   },
   "file_extension": ".py",
   "mimetype": "text/x-python",
   "name": "python",
   "nbconvert_exporter": "python",
   "pygments_lexer": "ipython3",
   "version": "3.7.6"
  }
 },
 "nbformat": 4,
 "nbformat_minor": 2
}
