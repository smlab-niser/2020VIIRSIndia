{
 "cells": [
  {
   "cell_type": "code",
   "execution_count": 1,
   "metadata": {},
   "outputs": [],
   "source": [
    "import os\n",
    "import json\n",
    "import rasterio\n",
    "import numpy as np\n",
    "from matplotlib import pyplot as plt\n",
    "import csv\n",
    "import rasterio.mask\n",
    "import pandas as pd\n"
   ]
  },
  {
   "cell_type": "code",
   "execution_count": 2,
   "metadata": {},
   "outputs": [],
   "source": [
    "import os\n",
    "path = '../../dataset/dmsp/stable/'\n",
    "\n",
    "imagefiles = []\n",
    "# r=root, d=directories, f = files\n",
    "for r, d, f in os.walk(path):\n",
    "    for file in f:\n",
    "        if 'web.stable_lights.avg_vis.tif' in file:\n",
    "            imagefiles.append(os.path.join(r, file))\n"
   ]
  },
  {
   "cell_type": "code",
   "execution_count": 3,
   "metadata": {},
   "outputs": [],
   "source": [
    "path = '../json/countries_gdpgrowth'\n",
    "\n",
    "files = []\n",
    "# r=root, d=directories, f = files\n",
    "for r, d, f in os.walk(path):\n",
    "    for file in f:\n",
    "            files.append(os.path.join(r, file))\n",
    "# print(files)"
   ]
  },
  {
   "cell_type": "code",
   "execution_count": 4,
   "metadata": {},
   "outputs": [],
   "source": [
    "def raster_array(geom,img):\n",
    "        sum1=0\n",
    "        count=0\n",
    "        with rasterio.open(img) as src:\n",
    "            out_image,out_transform = rasterio.mask.mask(src, geom, all_touched=True, nodata=0.0,crop=True)\n",
    "        raster_array=out_image[0]   \n",
    "        \n",
    "        \n",
    "        for row in range (len(raster_array)):\n",
    "             for col in range(len(raster_array[0])):\n",
    "                    count=count+1\n",
    "                    if(raster_array[row][col]<0.0):\n",
    "                        raster_array[row][col]=0.0\n",
    "                    sum1 = sum1 + raster_array[row][col]\n",
    "                    \n",
    "                    \n",
    "        return ([count,sum1])"
   ]
  },
  {
   "cell_type": "code",
   "execution_count": 5,
   "metadata": {},
   "outputs": [],
   "source": [
    "with open('nightlightsdmsp_GDP_pixel.csv','w', newline='') as f1:\n",
    "    thewriter=csv.writer(f1)\n",
    "    for vf in imagefiles:\n",
    "        for f in files:\n",
    "            data=json.load(open(f))\n",
    "            geom=[data['geometry']]\n",
    "                   \n",
    "        \n",
    "            thewriter.writerow([vf,f,raster_array(geom,vf)])\n"
   ]
  },
  {
   "cell_type": "code",
   "execution_count": null,
   "metadata": {},
   "outputs": [],
   "source": []
  }
 ],
 "metadata": {
  "kernelspec": {
   "display_name": "Python 3",
   "language": "python",
   "name": "python3"
  },
  "language_info": {
   "codemirror_mode": {
    "name": "ipython",
    "version": 3
   },
   "file_extension": ".py",
   "mimetype": "text/x-python",
   "name": "python",
   "nbconvert_exporter": "python",
   "pygments_lexer": "ipython3",
   "version": "3.7.6"
  }
 },
 "nbformat": 4,
 "nbformat_minor": 2
}
