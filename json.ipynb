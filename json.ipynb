{
 "cells": [
  {
   "cell_type": "code",
   "execution_count": 1,
   "metadata": {},
   "outputs": [
    {
     "name": "stdout",
     "output_type": "stream",
     "text": [
      "\n",
      "Note: you may need to restart the kernel to use updated packages.\n"
     ]
    },
    {
     "name": "stderr",
     "output_type": "stream",
     "text": [
      "Warning: 'conda-forge' already in 'channels' list, moving to the top\n"
     ]
    }
   ],
   "source": [
    "conda config --add channels conda-forge"
   ]
  },
  {
   "cell_type": "code",
   "execution_count": 2,
   "metadata": {},
   "outputs": [
    {
     "name": "stdout",
     "output_type": "stream",
     "text": [
      "Collecting package metadata (current_repodata.json): ...working... done\n",
      "Solving environment: ...working... failed with initial frozen solve. Retrying with flexible solve.\n",
      "Solving environment: ...working... failed with repodata from current_repodata.json, will retry with next repodata source.\n",
      "Collecting package metadata (repodata.json): ...working... done\n",
      "Solving environment: ...working... done\n",
      "\n",
      "## Package Plan ##\n",
      "\n",
      "  environment location: C:\\ProgramData\\Anaconda3\n",
      "\n",
      "  added / updated specs:\n",
      "    - rasterio\n",
      "\n",
      "\n",
      "The following packages will be downloaded:\n",
      "\n",
      "    package                    |            build\n",
      "    ---------------------------|-----------------\n",
      "    certifi-2019.9.11          |           py37_0         147 KB  conda-forge\n",
      "    expat-2.2.9                |       he025d50_2         116 KB  conda-forge\n",
      "    freexl-1.0.5               |    hd288d7e_1002          56 KB  conda-forge\n",
      "    pcre-8.44                  |       h6538335_0         492 KB  conda-forge\n",
      "    proj4-5.2.0                |    h6538335_1006         3.3 MB  conda-forge\n",
      "    python_abi-3.7             |          1_cp37m           4 KB  conda-forge\n",
      "    ------------------------------------------------------------\n",
      "                                           Total:         4.1 MB\n",
      "\n",
      "The following NEW packages will be INSTALLED:\n",
      "\n",
      "  affine             conda-forge/noarch::affine-2.3.0-py_0\n",
      "  boost-cpp          conda-forge/win-64::boost-cpp-1.72.0-h0caebb8_0\n",
      "  click-plugins      conda-forge/noarch::click-plugins-1.1.1-py_0\n",
      "  cligj              conda-forge/noarch::cligj-0.5.0-py_0\n",
      "  expat              conda-forge/win-64::expat-2.2.9-he025d50_2\n",
      "  freexl             conda-forge/win-64::freexl-1.0.5-hd288d7e_1002\n",
      "  geos               pkgs/main/win-64::geos-3.7.1-h33f27b4_0\n",
      "  hdf4               pkgs/main/win-64::hdf4-4.2.13-h712560f_2\n",
      "  kealib             pkgs/main/win-64::kealib-1.4.7-h07cbb95_6\n",
      "  libgdal            pkgs/main/win-64::libgdal-2.3.3-h10f50ba_0\n",
      "  libkml             conda-forge/win-64::libkml-1.3.0-h7e985d0_1011\n",
      "  libnetcdf          pkgs/main/win-64::libnetcdf-4.6.1-h411e497_2\n",
      "  libpq              pkgs/main/win-64::libpq-11.2-h3235a2c_0\n",
      "  libspatialite      conda-forge/win-64::libspatialite-4.3.0a-h6a0152f_1026\n",
      "  pcre               conda-forge/win-64::pcre-8.44-h6538335_0\n",
      "  proj4              conda-forge/win-64::proj4-5.2.0-h6538335_1006\n",
      "  python_abi         conda-forge/win-64::python_abi-3.7-1_cp37m\n",
      "  rasterio           pkgs/main/win-64::rasterio-1.0.21-py37h6bd7d87_0\n",
      "  snuggs             conda-forge/noarch::snuggs-1.4.7-py_0\n",
      "  xerces-c           conda-forge/win-64::xerces-c-3.2.3-ha925a31_0\n",
      "\n",
      "The following packages will be UPDATED:\n",
      "\n",
      "  conda                      pkgs/main::conda-4.7.12-py37_0 --> conda-forge::conda-4.8.3-py37hc8dfbb8_1\n",
      "\n",
      "The following packages will be SUPERSEDED by a higher-priority channel:\n",
      "\n",
      "  certifi                                         pkgs/main --> conda-forge\n",
      "\n",
      "\n",
      "\n",
      "Downloading and Extracting Packages\n",
      "\n",
      "certifi-2019.9.11    | 147 KB    |            |   0% \n",
      "certifi-2019.9.11    | 147 KB    | #          |  11% \n",
      "certifi-2019.9.11    | 147 KB    | ##1        |  22% \n",
      "certifi-2019.9.11    | 147 KB    | ###2       |  33% \n",
      "certifi-2019.9.11    | 147 KB    | ####3      |  43% \n",
      "certifi-2019.9.11    | 147 KB    | #####4     |  54% \n",
      "certifi-2019.9.11    | 147 KB    | ######5    |  65% \n",
      "certifi-2019.9.11    | 147 KB    | #######6   |  76% \n",
      "certifi-2019.9.11    | 147 KB    | ########6  |  87% \n",
      "certifi-2019.9.11    | 147 KB    | #########7 |  98% \n",
      "certifi-2019.9.11    | 147 KB    | ########## | 100% \n",
      "\n",
      "python_abi-3.7       | 4 KB      |            |   0% \n",
      "python_abi-3.7       | 4 KB      | ########## | 100% \n",
      "\n",
      "pcre-8.44            | 492 KB    |            |   0% \n",
      "pcre-8.44            | 492 KB    | 3          |   3% \n",
      "pcre-8.44            | 492 KB    | 6          |   7% \n",
      "pcre-8.44            | 492 KB    | 9          |  10% \n",
      "pcre-8.44            | 492 KB    | #3         |  13% \n",
      "pcre-8.44            | 492 KB    | #6         |  16% \n",
      "pcre-8.44            | 492 KB    | #9         |  20% \n",
      "pcre-8.44            | 492 KB    | ##2        |  23% \n",
      "pcre-8.44            | 492 KB    | ##6        |  26% \n",
      "pcre-8.44            | 492 KB    | ##9        |  29% \n",
      "pcre-8.44            | 492 KB    | ###2       |  33% \n",
      "pcre-8.44            | 492 KB    | ###5       |  36% \n",
      "pcre-8.44            | 492 KB    | ###9       |  39% \n",
      "pcre-8.44            | 492 KB    | ####5      |  46% \n",
      "pcre-8.44            | 492 KB    | ####8      |  49% \n",
      "pcre-8.44            | 492 KB    | #####2     |  52% \n",
      "pcre-8.44            | 492 KB    | #####8     |  59% \n",
      "pcre-8.44            | 492 KB    | ######1    |  62% \n",
      "pcre-8.44            | 492 KB    | ######5    |  65% \n",
      "pcre-8.44            | 492 KB    | #######1   |  72% \n",
      "pcre-8.44            | 492 KB    | #######4   |  75% \n",
      "pcre-8.44            | 492 KB    | #######8   |  78% \n",
      "pcre-8.44            | 492 KB    | ########4  |  85% \n",
      "pcre-8.44            | 492 KB    | ########7  |  88% \n",
      "pcre-8.44            | 492 KB    | #########1 |  91% \n",
      "pcre-8.44            | 492 KB    | #########4 |  94% \n",
      "pcre-8.44            | 492 KB    | #########7 |  98% \n",
      "pcre-8.44            | 492 KB    | ########## | 100% \n",
      "\n",
      "proj4-5.2.0          | 3.3 MB    |            |   0% \n",
      "proj4-5.2.0          | 3.3 MB    |            |   0% \n",
      "proj4-5.2.0          | 3.3 MB    |            |   1% \n",
      "proj4-5.2.0          | 3.3 MB    | 1          |   1% \n",
      "proj4-5.2.0          | 3.3 MB    | 1          |   2% \n",
      "proj4-5.2.0          | 3.3 MB    | 2          |   2% \n",
      "proj4-5.2.0          | 3.3 MB    | 2          |   3% \n",
      "proj4-5.2.0          | 3.3 MB    | 3          |   3% \n",
      "proj4-5.2.0          | 3.3 MB    | 3          |   4% \n",
      "proj4-5.2.0          | 3.3 MB    | 4          |   4% \n",
      "proj4-5.2.0          | 3.3 MB    | 5          |   5% \n",
      "proj4-5.2.0          | 3.3 MB    | 5          |   6% \n",
      "proj4-5.2.0          | 3.3 MB    | 6          |   6% \n",
      "proj4-5.2.0          | 3.3 MB    | 6          |   7% \n",
      "proj4-5.2.0          | 3.3 MB    | 7          |   7% \n",
      "proj4-5.2.0          | 3.3 MB    | 7          |   7% \n",
      "proj4-5.2.0          | 3.3 MB    | 7          |   8% \n",
      "proj4-5.2.0          | 3.3 MB    | 8          |   8% \n",
      "proj4-5.2.0          | 3.3 MB    | 9          |   9% \n",
      "proj4-5.2.0          | 3.3 MB    | 9          |  10% \n",
      "proj4-5.2.0          | 3.3 MB    | #          |  10% \n",
      "proj4-5.2.0          | 3.3 MB    | #          |  11% \n",
      "proj4-5.2.0          | 3.3 MB    | #1         |  11% \n",
      "proj4-5.2.0          | 3.3 MB    | #1         |  12% \n",
      "proj4-5.2.0          | 3.3 MB    | #5         |  15% \n",
      "proj4-5.2.0          | 3.3 MB    | #8         |  18% \n",
      "proj4-5.2.0          | 3.3 MB    | #9         |  20% \n",
      "proj4-5.2.0          | 3.3 MB    | ##1        |  21% \n",
      "proj4-5.2.0          | 3.3 MB    | ##2        |  22% \n",
      "proj4-5.2.0          | 3.3 MB    | ##4        |  24% \n",
      "proj4-5.2.0          | 3.3 MB    | ##5        |  26% \n",
      "proj4-5.2.0          | 3.3 MB    | ##7        |  28% \n",
      "proj4-5.2.0          | 3.3 MB    | ##9        |  29% \n",
      "proj4-5.2.0          | 3.3 MB    | ###1       |  31% \n",
      "proj4-5.2.0          | 3.3 MB    | ###2       |  33% \n",
      "proj4-5.2.0          | 3.3 MB    | ###4       |  34% \n",
      "proj4-5.2.0          | 3.3 MB    | ###6       |  36% \n",
      "proj4-5.2.0          | 3.3 MB    | ###8       |  38% \n",
      "proj4-5.2.0          | 3.3 MB    | ####       |  40% \n",
      "proj4-5.2.0          | 3.3 MB    | ####2      |  42% \n",
      "proj4-5.2.0          | 3.3 MB    | ####3      |  44% \n",
      "proj4-5.2.0          | 3.3 MB    | ####6      |  46% \n",
      "proj4-5.2.0          | 3.3 MB    | ####8      |  48% \n",
      "proj4-5.2.0          | 3.3 MB    | #####      |  50% \n",
      "proj4-5.2.0          | 3.3 MB    | #####2     |  52% \n",
      "proj4-5.2.0          | 3.3 MB    | #####4     |  55% \n",
      "proj4-5.2.0          | 3.3 MB    | #####7     |  58% \n",
      "proj4-5.2.0          | 3.3 MB    | ######     |  60% \n",
      "proj4-5.2.0          | 3.3 MB    | ######2    |  63% \n",
      "proj4-5.2.0          | 3.3 MB    | ######6    |  66% \n",
      "proj4-5.2.0          | 3.3 MB    | ######9    |  69% \n",
      "proj4-5.2.0          | 3.3 MB    | #######1   |  71% \n",
      "proj4-5.2.0          | 3.3 MB    | #######5   |  75% \n",
      "proj4-5.2.0          | 3.3 MB    | ########   |  80% \n",
      "proj4-5.2.0          | 3.3 MB    | ########3  |  83% \n",
      "proj4-5.2.0          | 3.3 MB    | ########6  |  87% \n",
      "proj4-5.2.0          | 3.3 MB    | #########  |  90% \n",
      "proj4-5.2.0          | 3.3 MB    | #########3 |  93% \n",
      "proj4-5.2.0          | 3.3 MB    | #########7 |  97% \n",
      "proj4-5.2.0          | 3.3 MB    | ########## | 100% \n",
      "\n",
      "freexl-1.0.5         | 56 KB     |            |   0% \n",
      "freexl-1.0.5         | 56 KB     | ##8        |  29% \n",
      "freexl-1.0.5         | 56 KB     | ########## | 100% \n",
      "\n",
      "expat-2.2.9          | 116 KB    |            |   0% \n",
      "expat-2.2.9          | 116 KB    | #3         |  14% \n",
      "expat-2.2.9          | 116 KB    | ########## | 100% \n",
      "Preparing transaction: ...working... done\n",
      "Verifying transaction: ...working... failed\n",
      "\n",
      "Note: you may need to restart the kernel to use updated packages.\n"
     ]
    },
    {
     "name": "stderr",
     "output_type": "stream",
     "text": [
      "\n",
      "\n",
      "==> WARNING: A newer version of conda exists. <==\n",
      "  current version: 4.7.12\n",
      "  latest version: 4.8.3\n",
      "\n",
      "Please update conda by running\n",
      "\n",
      "    $ conda update -n base -c defaults conda\n",
      "\n",
      "\n",
      "\n",
      "EnvironmentNotWritableError: The current user does not have write permissions to the target environment.\n",
      "  environment location: C:\\ProgramData\\Anaconda3\n",
      "\n",
      "\n"
     ]
    }
   ],
   "source": [
    "conda install rasterio"
   ]
  },
  {
   "cell_type": "code",
   "execution_count": 1,
   "metadata": {},
   "outputs": [
    {
     "name": "stdout",
     "output_type": "stream",
     "text": [
      "Collecting package metadata (current_repodata.json): ...working... done\n",
      "Solving environment: ...working... failed with initial frozen solve. Retrying with flexible solve.\n",
      "Solving environment: ...working... failed with repodata from current_repodata.json, will retry with next repodata source.\n",
      "Collecting package metadata (repodata.json): ...working... done\n",
      "Solving environment: ...working... done\n",
      "\n",
      "## Package Plan ##\n",
      "\n",
      "  environment location: C:\\ProgramData\\Anaconda3\n",
      "\n",
      "  added / updated specs:\n",
      "    - rasterio\n",
      "\n",
      "\n",
      "The following NEW packages will be INSTALLED:\n",
      "\n",
      "  affine             conda-forge/noarch::affine-2.3.0-py_0\n",
      "  boost-cpp          conda-forge/win-64::boost-cpp-1.72.0-h0caebb8_0\n",
      "  click-plugins      conda-forge/noarch::click-plugins-1.1.1-py_0\n",
      "  cligj              conda-forge/noarch::cligj-0.5.0-py_0\n",
      "  expat              conda-forge/win-64::expat-2.2.9-he025d50_2\n",
      "  freexl             conda-forge/win-64::freexl-1.0.5-hd288d7e_1002\n",
      "  geos               pkgs/main/win-64::geos-3.7.1-h33f27b4_0\n",
      "  hdf4               pkgs/main/win-64::hdf4-4.2.13-h712560f_2\n",
      "  kealib             pkgs/main/win-64::kealib-1.4.7-h07cbb95_6\n",
      "  libgdal            pkgs/main/win-64::libgdal-2.3.3-h10f50ba_0\n",
      "  libkml             conda-forge/win-64::libkml-1.3.0-h7e985d0_1011\n",
      "  libnetcdf          pkgs/main/win-64::libnetcdf-4.6.1-h411e497_2\n",
      "  libpq              pkgs/main/win-64::libpq-11.2-h3235a2c_0\n",
      "  libspatialite      conda-forge/win-64::libspatialite-4.3.0a-h6a0152f_1026\n",
      "  pcre               conda-forge/win-64::pcre-8.44-h6538335_0\n",
      "  proj4              conda-forge/win-64::proj4-5.2.0-h6538335_1006\n",
      "  python_abi         conda-forge/win-64::python_abi-3.7-1_cp37m\n",
      "  rasterio           pkgs/main/win-64::rasterio-1.0.21-py37h6bd7d87_0\n",
      "  snuggs             conda-forge/noarch::snuggs-1.4.7-py_0\n",
      "  xerces-c           conda-forge/win-64::xerces-c-3.2.3-ha925a31_0\n",
      "\n",
      "The following packages will be UPDATED:\n",
      "\n",
      "  conda                      pkgs/main::conda-4.7.12-py37_0 --> conda-forge::conda-4.8.3-py37hc8dfbb8_1\n",
      "\n",
      "The following packages will be SUPERSEDED by a higher-priority channel:\n",
      "\n",
      "  certifi                                         pkgs/main --> conda-forge\n",
      "\n",
      "\n",
      "Preparing transaction: ...working... done\n",
      "Verifying transaction: ...working... done\n",
      "Executing transaction: ...working... done\n",
      "\n",
      "Note: you may need to restart the kernel to use updated packages.\n"
     ]
    },
    {
     "name": "stderr",
     "output_type": "stream",
     "text": [
      "\n",
      "\n",
      "==> WARNING: A newer version of conda exists. <==\n",
      "  current version: 4.7.12\n",
      "  latest version: 4.8.3\n",
      "\n",
      "Please update conda by running\n",
      "\n",
      "    $ conda update -n base -c defaults conda\n",
      "\n",
      "\n"
     ]
    }
   ],
   "source": [
    "conda install rasterio"
   ]
  },
  {
   "cell_type": "code",
   "execution_count": 2,
   "metadata": {},
   "outputs": [
    {
     "name": "stdout",
     "output_type": "stream",
     "text": [
      "Collecting package metadata (current_repodata.json): ...working... done\n",
      "Solving environment: ...working... done\n",
      "\n",
      "## Package Plan ##\n",
      "\n",
      "  environment location: C:\\ProgramData\\Anaconda3\n",
      "\n",
      "  added / updated specs:\n",
      "    - conda\n",
      "\n",
      "\n",
      "The following packages will be downloaded:\n",
      "\n",
      "    package                    |            build\n",
      "    ---------------------------|-----------------\n",
      "    affine-2.3.0               |             py_0          19 KB\n",
      "    click-plugins-1.1.1        |             py_0          11 KB\n",
      "    snuggs-1.4.7               |             py_0          11 KB\n",
      "    ------------------------------------------------------------\n",
      "                                           Total:          41 KB\n",
      "\n",
      "The following NEW packages will be INSTALLED:\n",
      "\n",
      "  libboost           pkgs/main/win-64::libboost-1.67.0-hd9e427e_4\n",
      "\n",
      "The following packages will be REMOVED:\n",
      "\n",
      "  boost-cpp-1.72.0-h0caebb8_0\n",
      "  python_abi-3.7-1_cp37m\n",
      "\n",
      "The following packages will be UPDATED:\n",
      "\n",
      "  backports.functoo~                               1.5-py_2 --> 1.6.1-py_0\n",
      "  future                                      0.17.1-py37_0 --> 0.18.2-py37_0\n",
      "\n",
      "The following packages will be SUPERSEDED by a higher-priority channel:\n",
      "\n",
      "  affine                                        conda-forge --> pkgs/main\n",
      "  click-plugins                                 conda-forge --> pkgs/main\n",
      "  cligj                conda-forge/noarch::cligj-0.5.0-py_0 --> pkgs/main/win-64::cligj-0.5.0-py37_0\n",
      "  conda              conda-forge::conda-4.8.3-py37hc8dfbb8~ --> pkgs/main::conda-4.8.3-py37_0\n",
      "  expat                 conda-forge::expat-2.2.9-he025d50_2 --> pkgs/main::expat-2.2.5-he025d50_0\n",
      "  freexl             conda-forge::freexl-1.0.5-hd288d7e_10~ --> pkgs/main::freexl-1.0.5-hfa6e2cd_0\n",
      "  libkml             conda-forge::libkml-1.3.0-h7e985d0_10~ --> pkgs/main::libkml-1.3.0-he5f2a48_4\n",
      "  libspatialite      conda-forge::libspatialite-4.3.0a-h6a~ --> pkgs/main::libspatialite-4.3.0a-hc36aec2_19\n",
      "  pcre                    conda-forge::pcre-8.44-h6538335_0 --> pkgs/main::pcre-8.43-ha925a31_0\n",
      "  proj4              conda-forge::proj4-5.2.0-h6538335_1006 --> pkgs/main::proj4-5.2.0-ha925a31_1\n",
      "  snuggs                                        conda-forge --> pkgs/main\n",
      "  xerces-c           conda-forge::xerces-c-3.2.3-ha925a31_0 --> pkgs/main::xerces-c-3.2.2-ha925a31_0\n",
      "\n",
      "\n",
      "\n",
      "Downloading and Extracting Packages\n",
      "\n",
      "affine-2.3.0         | 19 KB     |            |   0% \n",
      "affine-2.3.0         | 19 KB     | ########3  |  84% \n",
      "affine-2.3.0         | 19 KB     | ########## | 100% \n",
      "\n",
      "click-plugins-1.1.1  | 11 KB     |            |   0% \n",
      "click-plugins-1.1.1  | 11 KB     | ########## | 100% \n",
      "\n",
      "snuggs-1.4.7         | 11 KB     |            |   0% \n",
      "snuggs-1.4.7         | 11 KB     | ########## | 100% \n",
      "Preparing transaction: ...working... done\n",
      "Verifying transaction: ...working... done\n",
      "Executing transaction: ...working... done\n",
      "\n",
      "Note: you may need to restart the kernel to use updated packages.\n"
     ]
    }
   ],
   "source": [
    "conda update -n base -c defaults conda\n"
   ]
  },
  {
   "cell_type": "code",
   "execution_count": 2,
   "metadata": {},
   "outputs": [],
   "source": [
    "import os\n",
    "import json\n",
    "import rasterio\n",
    "import rasterio.features\n",
    "import shapely.geometry\n",
    "import pandas as pd\n",
    "from affine import Affine\n"
   ]
  },
  {
   "cell_type": "code",
   "execution_count": 7,
   "metadata": {},
   "outputs": [],
   "source": [
    "# RASTER_FILE = os.path.join(\n",
    "#     os.path.expanduser('~'), 'bh', 'data', 'satellite',\n",
    "#     'file.tif')\n",
    "#for uploading viirs img******* "
   ]
  },
  {
   "cell_type": "code",
   "execution_count": 20,
   "metadata": {},
   "outputs": [],
   "source": [
    "f=open('korea.json')"
   ]
  },
  {
   "cell_type": "code",
   "execution_count": 21,
   "metadata": {},
   "outputs": [],
   "source": [
    "data=json.load(f)"
   ]
  },
  {
   "cell_type": "code",
   "execution_count": 23,
   "metadata": {},
   "outputs": [
    {
     "name": "stdout",
     "output_type": "stream",
     "text": [
      "<shapely.geometry.polygon.Polygon object at 0x000001B0E115E888>\n"
     ]
    },
    {
     "data": {
      "image/svg+xml": [
       "<svg xmlns=\"http://www.w3.org/2000/svg\" xmlns:xlink=\"http://www.w3.org/1999/xlink\" width=\"100.0\" height=\"100.0\" viewBox=\"124.00504972 37.408495720000005 7.035532560000021 5.837466559999996\" preserveAspectRatio=\"xMinYMin meet\"><g transform=\"matrix(1,0,0,-1,0,80.654458)\"><path fill-rule=\"evenodd\" fill=\"#66cc99\" stroke=\"#555555\" stroke-width=\"0.14071065120000043\" opacity=\"0.6\" d=\"M 130.640016,42.395009 L 130.780007,42.220007 L 130.400031,42.280004 L 129.965949,41.941368 L 129.667362,41.601104 L 129.705189,40.882828 L 129.188115,40.661808 L 129.0104,40.485436 L 128.633368,40.189847 L 127.967414,40.025413 L 127.533436,39.75685 L 127.50212,39.323931 L 127.385434,39.213472 L 127.783343,39.050898 L 128.349716,38.612243 L 128.205746,38.370397 L 127.780035,38.304536 L 127.073309,38.256115 L 126.68372,37.804773 L 126.237339,37.840378 L 126.174759,37.749686 L 125.689104,37.94001 L 125.568439,37.752089 L 125.27533,37.669071 L 125.240087,37.857224 L 124.981033,37.948821 L 124.712161,38.108346 L 124.985994,38.548474 L 125.221949,38.665857 L 125.132859,38.848559 L 125.38659,39.387958 L 125.321116,39.551385 L 124.737482,39.660344 L 124.265625,39.928493 L 125.079942,40.569824 L 126.182045,41.107336 L 126.869083,41.816569 L 127.343783,41.503152 L 128.208433,41.466772 L 128.052215,41.994285 L 129.596669,42.424982 L 129.994267,42.985387 L 130.640016,42.395009 z\" /></g></svg>"
      ],
      "text/plain": [
       "<shapely.geometry.polygon.Polygon at 0x1b0e115e888>"
      ]
     },
     "execution_count": 23,
     "metadata": {},
     "output_type": "execute_result"
    }
   ],
   "source": [
    "shape = shapely.geometry.shape(data['geometry'])\n",
    "print ('%r' % shape)\n",
    "shape"
   ]
  },
  {
   "cell_type": "code",
   "execution_count": 25,
   "metadata": {},
   "outputs": [
    {
     "name": "stdout",
     "output_type": "stream",
     "text": [
      "124.265625 37.669071 130.780007 42.985387\n"
     ]
    }
   ],
   "source": [
    "lon_min, lat_min, lon_max, lat_max = shape.bounds\n",
    "print (lon_min, lat_min, lon_max, lat_max)"
   ]
  },
  {
   "cell_type": "code",
   "execution_count": null,
   "metadata": {},
   "outputs": [],
   "source": []
  }
 ],
 "metadata": {
  "kernelspec": {
   "display_name": "Python 3",
   "language": "python",
   "name": "python3"
  },
  "language_info": {
   "codemirror_mode": {
    "name": "ipython",
    "version": 3
   },
   "file_extension": ".py",
   "mimetype": "text/x-python",
   "name": "python",
   "nbconvert_exporter": "python",
   "pygments_lexer": "ipython3",
   "version": "3.7.4"
  }
 },
 "nbformat": 4,
 "nbformat_minor": 2
}
