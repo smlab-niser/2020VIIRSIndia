{
 "cells": [
  {
   "cell_type": "code",
   "execution_count": 3,
   "metadata": {},
   "outputs": [],
   "source": [
    "import os\n",
    "import json\n",
    "import rasterio\n",
    "import numpy as np\n",
    "from matplotlib import pyplot as plt\n",
    "import csv\n",
    "import rasterio.mask\n",
    "import pandas as pd"
   ]
  },
  {
   "cell_type": "code",
   "execution_count": null,
   "metadata": {},
   "outputs": [],
   "source": [
    "import os\n",
    "path = '../dataset/'\n",
    "\n",
    "imagefiles = []\n",
    "# r=root, d=directories, f = files\n",
    "for r, d, f in os.walk(path):\n",
    "    for file in f:\n",
    "        if 'rade9h.tif' in file:\n",
    "            files.append(os.path.join(r, file))\n",
    "        \n",
    "        else if 'avg_lights_x_pct.tif' in file:\n",
    "            files.append(os.path.join(r, file))\n",
    "        \n"
   ]
  },
  {
   "cell_type": "code",
   "execution_count": 4,
   "metadata": {},
   "outputs": [
    {
     "name": "stdout",
     "output_type": "stream",
     "text": [
      "json_files/brazil.json\n",
      "json_files/canada.json\n",
      "json_files/china.json\n",
      "json_files/france.json\n",
      "json_files/germany.json\n",
      "json_files/india.json\n",
      "json_files/indonesia.json\n",
      "json_files/iran.json\n",
      "json_files/italy.json\n",
      "json_files/japan.json\n",
      "json_files/korea.json\n",
      "json_files/mexico.json\n",
      "json_files/russia.json\n",
      "json_files/saudiarab.json\n",
      "json_files/spain.json\n",
      "json_files/turkey.json\n",
      "json_files/uk.json\n",
      "json_files/usa.json\n"
     ]
    }
   ],
   "source": [
    "path = 'json_files/'\n",
    "\n",
    "files = []\n",
    "# r=root, d=directories, f = files\n",
    "for r, d, f in os.walk(path):\n",
    "    for file in f:\n",
    "            files.append(os.path.join(r, file))\n",
    "for f in files:\n",
    "    print(f)\n",
    "    data=json.load(open(f))\n"
   ]
  },
  {
   "cell_type": "code",
   "execution_count": 5,
   "metadata": {},
   "outputs": [
    {
     "name": "stdout",
     "output_type": "stream",
     "text": [
      "brazil\n",
      "canada\n",
      "china\n",
      "france\n",
      "germany\n",
      "india\n",
      "indonesia\n",
      "iran\n",
      "italy\n",
      "japan\n",
      "korea\n",
      "mexico\n",
      "russia\n",
      "saudiarab\n",
      "spain\n",
      "turkey\n",
      "uk\n",
      "usa\n"
     ]
    }
   ],
   "source": [
    "for f in files:\n",
    "    s=f[11:len(f)-5]\n",
    "    print(s)"
   ]
  },
  {
   "cell_type": "code",
   "execution_count": 10,
   "metadata": {},
   "outputs": [
    {
     "name": "stdout",
     "output_type": "stream",
     "text": [
      "0.0\n",
      "0.0\n"
     ]
    }
   ],
   "source": [
    "data=json.load(open(\"json_files/brazil.json\"))\n",
    "geom=[data['geometry']]\n",
    "\n",
    "with rasterio.open('SVDNB_npp_20190401-20190430_75N060E_vcmcfg_v10_c201905191000.avg_rade9h.tif') as src:\n",
    "        out_image,out_transform = rasterio.mask.mask(src, geom)\n",
    "raster_arrayb=out_image[0]\n",
    "print(raster_arrayb.min())\n",
    "print(raster_arrayb.max())"
   ]
  },
  {
   "cell_type": "code",
   "execution_count": 11,
   "metadata": {},
   "outputs": [
    {
     "name": "stdout",
     "output_type": "stream",
     "text": [
      "0.0\n",
      "0.0\n"
     ]
    }
   ],
   "source": [
    "data=json.load(open(\"json_files/japan.json\"))\n",
    "geom=[data['geometry']]\n",
    "\n",
    "with rasterio.open('SVDNB_npp_20190401-20190430_75N060E_vcmcfg_v10_c201905191000.avg_rade9h.tif') as src:\n",
    "        out_imageind,out_transform = rasterio.mask.mask(src, geom, all_touched=True)\n",
    "raster_arrayb=out_image[0]\n",
    "print(raster_arrayb.min())\n",
    "print(raster_arrayb.max())   "
   ]
  },
  {
   "cell_type": "code",
   "execution_count": 9,
   "metadata": {},
   "outputs": [],
   "source": [
    "def raster_array(geom,img):\n",
    "    sumi=0\n",
    "    \n",
    "    with rasterio.open(img) as src:\n",
    "        out_image,out_transform = rasterio.mask.mask(src, geom)\n",
    "    raster_array=out_image[0]\n",
    "    \n",
    "    if(raster_array.max() != raster_array.min()):\n",
    "    \n",
    "        with rasterio.open(img) as src:\n",
    "            out_image,out_transform = rasterio.mask.mask(src, geom, all_touched=True, nodata=0.0,crop=True)\n",
    "        raster_array=out_image[0]   \n",
    "        for row in range (len(raster_array)):\n",
    "             for col in range(len(raster_array[0])):\n",
    "                    if(raster_array[row][col]<0.0):\n",
    "                        raster_array[row][col]=0.0\n",
    "                    sumi = sumi + raster_array[row][col]\n",
    "        \n",
    "    return (sumi)"
   ]
  },
  {
   "cell_type": "code",
   "execution_count": 6,
   "metadata": {},
   "outputs": [
    {
     "name": "stderr",
     "output_type": "stream",
     "text": [
      "C:\\Users\\Public\\anaconda\\lib\\site-packages\\rasterio\\mask.py:89: UserWarning: shapes are outside bounds of raster. Are they in different coordinate reference systems?\n",
      "  warnings.warn('shapes are outside bounds of raster. '\n"
     ]
    }
   ],
   "source": [
    "with open('nightlights.csv','w', newline='') as f1:\n",
    "    thewriter=csv.writer(f1)\n",
    "    for vf in imagefiles:\n",
    "        for f in files:\n",
    "            data=json.load(open(f))\n",
    "            geom=[data['geometry']]\n",
    "            country= f[11:len(f)-5]\n",
    "            if 'rade9h.tif' in vf:\n",
    "                time= vf[48:54]\n",
    "        \n",
    "            else if 'avg_lights_x_pct.tif' in vf:\n",
    "                time= vf[23:27]\n",
    "                   \n",
    "        \n",
    "            thewriter.writerow([time,country,raster_array(geom,vf)])"
   ]
  },
  {
   "cell_type": "code",
   "execution_count": null,
   "metadata": {},
   "outputs": [],
   "source": [
    "data=json.load(open(\"json_files/mexico.json\"))\n",
    "geom=[data['geometry']]\n",
    "\n",
    "with rasterio.open('SVDNB_npp_20190401-20190430_75N060E_vcmcfg_v10_c201905191000.avg_rade9h.tif') as src:\n",
    "        out_image,out_transform = rasterio.mask.mask(src, geom)\n",
    "raster_arrayb=out_image[0]"
   ]
  }
 ],
 "metadata": {
  "kernelspec": {
   "display_name": "Python 3",
   "language": "python",
   "name": "python3"
  },
  "language_info": {
   "codemirror_mode": {
    "name": "ipython",
    "version": 3
   },
   "file_extension": ".py",
   "mimetype": "text/x-python",
   "name": "python",
   "nbconvert_exporter": "python",
   "pygments_lexer": "ipython3",
   "version": "3.7.4"
  }
 },
 "nbformat": 4,
 "nbformat_minor": 2
}
